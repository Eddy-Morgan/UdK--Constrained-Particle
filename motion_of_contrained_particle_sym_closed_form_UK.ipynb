{
 "cells": [
  {
   "cell_type": "code",
   "execution_count": 1,
   "id": "dd8cd735",
   "metadata": {},
   "outputs": [],
   "source": [
    "import sympy as sm\n",
    "from sympy import diff, Symbol\n",
    "from scipy.integrate import odeint\n",
    "import numpy as np\n",
    "from sympy.physics.mechanics import dynamicsymbols\n",
    "import math"
   ]
  },
  {
   "cell_type": "code",
   "execution_count": 2,
   "id": "fdc459af",
   "metadata": {},
   "outputs": [],
   "source": [
    "from sympy.physics.vector import init_vprinting\n",
    "init_vprinting(use_latex=\"mathjax\", pretty_print=False)"
   ]
  },
  {
   "cell_type": "code",
   "execution_count": 3,
   "id": "e8907cf2",
   "metadata": {},
   "outputs": [
    {
     "data": {
      "text/latex": [
       "$\\displaystyle \\left( \\theta, \\  r, \\  \\dot{\\theta}, \\  \\ddot{\\theta}, \\  \\dot{r}, \\  \\ddot{r}\\right)$"
      ],
      "text/plain": [
       "(theta, r, theta', theta'', r', r'')"
      ]
     },
     "execution_count": 3,
     "metadata": {},
     "output_type": "execute_result"
    }
   ],
   "source": [
    "theta, r = dynamicsymbols('theta r')\n",
    "thetad = dynamicsymbols('theta',1)\n",
    "thetadd = dynamicsymbols('theta',2)\n",
    "rd = dynamicsymbols('r',1)\n",
    "rdd = dynamicsymbols('r',2)\n",
    "theta,r,thetad, thetadd, rd, rdd"
   ]
  },
  {
   "cell_type": "code",
   "execution_count": 4,
   "id": "8459fb44",
   "metadata": {},
   "outputs": [],
   "source": [
    "m=1\n",
    "g=9.81"
   ]
  },
  {
   "cell_type": "code",
   "execution_count": 5,
   "id": "0b64db0f",
   "metadata": {},
   "outputs": [
    {
     "data": {
      "text/latex": [
       "$\\displaystyle \\left( r \\cos{\\left(\\theta \\right)}, \\  r \\sin{\\left(\\theta \\right)}\\right)$"
      ],
      "text/plain": [
       "(r*cos(theta), r*sin(theta))"
      ]
     },
     "execution_count": 5,
     "metadata": {},
     "output_type": "execute_result"
    }
   ],
   "source": [
    "x = r*sm.cos(theta)\n",
    "y = r*sm.sin(theta)\n",
    "x,y"
   ]
  },
  {
   "cell_type": "code",
   "execution_count": 6,
   "id": "84a89889",
   "metadata": {},
   "outputs": [
    {
     "data": {
      "text/latex": [
       "$\\displaystyle \\left( - r \\sin{\\left(\\theta \\right)} \\dot{\\theta} + \\cos{\\left(\\theta \\right)} \\dot{r}, \\  r \\cos{\\left(\\theta \\right)} \\dot{\\theta} + \\sin{\\left(\\theta \\right)} \\dot{r}\\right)$"
      ],
      "text/plain": [
       "(-r*sin(theta)*theta' + cos(theta)*r', r*cos(theta)*theta' + sin(theta)*r')"
      ]
     },
     "execution_count": 6,
     "metadata": {},
     "output_type": "execute_result"
    }
   ],
   "source": [
    "xd = sm.diff(x,'t')\n",
    "yd = sm.diff(y,'t')\n",
    "xd,yd"
   ]
  },
  {
   "cell_type": "code",
   "execution_count": 7,
   "id": "27516468",
   "metadata": {},
   "outputs": [
    {
     "data": {
      "text/latex": [
       "$\\displaystyle \\left( - r \\sin{\\left(\\theta \\right)} \\ddot{\\theta} - r \\cos{\\left(\\theta \\right)} \\dot{\\theta}^{2} - 2 \\sin{\\left(\\theta \\right)} \\dot{r} \\dot{\\theta} + \\cos{\\left(\\theta \\right)} \\ddot{r}, \\  - r \\sin{\\left(\\theta \\right)} \\dot{\\theta}^{2} + r \\cos{\\left(\\theta \\right)} \\ddot{\\theta} + \\sin{\\left(\\theta \\right)} \\ddot{r} + 2 \\cos{\\left(\\theta \\right)} \\dot{r} \\dot{\\theta}\\right)$"
      ],
      "text/plain": [
       "(-r*sin(theta)*theta'' - r*cos(theta)*theta'**2 - 2*sin(theta)*r'*theta' + cos(theta)*r'', -r*sin(theta)*theta'**2 + r*cos(theta)*theta'' + sin(theta)*r'' + 2*cos(theta)*r'*theta')"
      ]
     },
     "execution_count": 7,
     "metadata": {},
     "output_type": "execute_result"
    }
   ],
   "source": [
    "xdd = sm.diff(xd,'t')\n",
    "ydd = sm.diff(yd,'t')\n",
    "xdd, ydd"
   ]
  },
  {
   "cell_type": "code",
   "execution_count": 8,
   "id": "e25a63e0",
   "metadata": {},
   "outputs": [
    {
     "data": {
      "text/latex": [
       "$\\displaystyle \\left( 1.0 r \\dot{\\theta}^{2} - 9.81 \\sin{\\left(\\theta \\right)}, \\  - \\frac{9.81 \\cos{\\left(\\theta \\right)} + 2.0 \\dot{r} \\dot{\\theta}}{r}\\right)$"
      ],
      "text/plain": [
       "(1.0*r*theta'**2 - 9.81*sin(theta), -(9.81*cos(theta) + 2.0*r'*theta')/r)"
      ]
     },
     "execution_count": 8,
     "metadata": {},
     "output_type": "execute_result"
    }
   ],
   "source": [
    "dynamics_sol = sm.solve([(m*xdd)  ,((m*ydd)+(m*g)) ],[rdd,thetadd])\n",
    "rdd_solver = sm.simplify(dynamics_sol[rdd])\n",
    "thetadd_solver = sm.simplify(dynamics_sol[thetadd])\n",
    "rdd_solver,thetadd_solver"
   ]
  },
  {
   "cell_type": "code",
   "execution_count": 9,
   "id": "57f93aee",
   "metadata": {},
   "outputs": [
    {
     "data": {
      "text/latex": [
       "$\\displaystyle \\left[\\begin{matrix}1 & 0\\\\0 & 1\\end{matrix}\\right]$"
      ],
      "text/plain": [
       "Matrix([\n",
       "[1, 0],\n",
       "[0, 1]])"
      ]
     },
     "execution_count": 9,
     "metadata": {},
     "output_type": "execute_result"
    }
   ],
   "source": [
    "M = sm.Matrix([[m, 0],[0, m]])\n",
    "M"
   ]
  },
  {
   "cell_type": "code",
   "execution_count": 10,
   "id": "924952ed",
   "metadata": {},
   "outputs": [
    {
     "data": {
      "text/latex": [
       "$\\displaystyle \\left[\\begin{matrix}1.0 r \\dot{\\theta}^{2} - 9.81 \\sin{\\left(\\theta \\right)}\\\\- \\frac{9.81 \\cos{\\left(\\theta \\right)} + 2.0 \\dot{r} \\dot{\\theta}}{r}\\end{matrix}\\right]$"
      ],
      "text/plain": [
       "Matrix([\n",
       "[   1.0*r*theta'**2 - 9.81*sin(theta)],\n",
       "[-(9.81*cos(theta) + 2.0*r'*theta')/r]])"
      ]
     },
     "execution_count": 10,
     "metadata": {},
     "output_type": "execute_result"
    }
   ],
   "source": [
    "a0 = sm.Matrix([rdd_solver, thetadd_solver])\n",
    "a0"
   ]
  },
  {
   "cell_type": "code",
   "execution_count": 11,
   "id": "cea83600",
   "metadata": {},
   "outputs": [
    {
     "data": {
      "text/latex": [
       "$\\displaystyle \\left[\\begin{matrix}1.0 r \\dot{\\theta}^{2} - 9.81 \\sin{\\left(\\theta \\right)}\\\\- \\frac{9.81 \\cos{\\left(\\theta \\right)} + 2.0 \\dot{r} \\dot{\\theta}}{r}\\end{matrix}\\right]$"
      ],
      "text/plain": [
       "Matrix([\n",
       "[   1.0*r*theta'**2 - 9.81*sin(theta)],\n",
       "[-(9.81*cos(theta) + 2.0*r'*theta')/r]])"
      ]
     },
     "execution_count": 11,
     "metadata": {},
     "output_type": "execute_result"
    }
   ],
   "source": [
    "F = m*a0\n",
    "F"
   ]
  },
  {
   "cell_type": "markdown",
   "id": "f45d4610",
   "metadata": {},
   "source": [
    "<h3>constraint is described by</h3>"
   ]
  },
  {
   "cell_type": "code",
   "execution_count": 12,
   "id": "f284f939",
   "metadata": {},
   "outputs": [
    {
     "data": {
      "text/latex": [
       "$\\displaystyle \\left( e^{0.1 \\theta}, \\  30 - t\\right)$"
      ],
      "text/plain": [
       "(exp(0.1*theta), 30 - t)"
      ]
     },
     "execution_count": 12,
     "metadata": {},
     "output_type": "execute_result"
    }
   ],
   "source": [
    "r_c = sm.exp(0.1*theta)\n",
    "theta_c = -Symbol('t')+30\n",
    "r_c,theta_c"
   ]
  },
  {
   "cell_type": "code",
   "execution_count": 13,
   "id": "1388467e",
   "metadata": {},
   "outputs": [
    {
     "data": {
      "text/latex": [
       "$\\displaystyle \\left( 0.01 e^{0.1 \\theta} \\dot{\\theta}^{2} + 0.1 e^{0.1 \\theta} \\ddot{\\theta}, \\  0\\right)$"
      ],
      "text/plain": [
       "(0.01*exp(0.1*theta)*theta'**2 + 0.1*exp(0.1*theta)*theta'', 0)"
      ]
     },
     "execution_count": 13,
     "metadata": {},
     "output_type": "execute_result"
    }
   ],
   "source": [
    "r_cdd = sm.diff(sm.diff(r_c,'t'),'t')\n",
    "theta_cdd = sm.diff(sm.diff(theta_c,'t'),'t')\n",
    "r_cdd, theta_cdd"
   ]
  },
  {
   "cell_type": "code",
   "execution_count": 14,
   "id": "0962a177",
   "metadata": {},
   "outputs": [
    {
     "data": {
      "text/latex": [
       "$\\displaystyle \\left( - 0.01 e^{0.1 \\theta} \\dot{\\theta}^{2} - 0.1 e^{0.1 \\theta} \\ddot{\\theta} + \\ddot{r}, \\  \\ddot{\\theta}\\right)$"
      ],
      "text/plain": [
       "(-0.01*exp(0.1*theta)*theta'**2 - 0.1*exp(0.1*theta)*theta'' + r'', theta'')"
      ]
     },
     "execution_count": 14,
     "metadata": {},
     "output_type": "execute_result"
    }
   ],
   "source": [
    "r_ac = rdd - r_cdd\n",
    "theta_ac = thetadd - theta_cdd\n",
    "r_ac,theta_ac"
   ]
  },
  {
   "cell_type": "code",
   "execution_count": 15,
   "id": "c68183f3",
   "metadata": {},
   "outputs": [
    {
     "data": {
      "text/latex": [
       "$\\displaystyle \\left[\\begin{matrix}1 & - 0.1 e^{0.1 \\theta}\\\\0 & 1\\end{matrix}\\right]$"
      ],
      "text/plain": [
       "Matrix([\n",
       "[1, -0.1*exp(0.1*theta)],\n",
       "[0,                   1]])"
      ]
     },
     "execution_count": 15,
     "metadata": {},
     "output_type": "execute_result"
    }
   ],
   "source": [
    "rs1 = r_ac.coeff(rdd)\n",
    "thetas1 = r_ac.coeff(thetadd)\n",
    "rs2 = theta_ac.coeff(rdd)\n",
    "thetas2 = theta_ac.coeff(thetadd)\n",
    "A = sm.Matrix([[rs1,thetas1],[rs2,thetas2]])\n",
    "A"
   ]
  },
  {
   "cell_type": "code",
   "execution_count": 16,
   "id": "0d94f1e9",
   "metadata": {},
   "outputs": [
    {
     "data": {
      "text/latex": [
       "$\\displaystyle \\left[\\begin{matrix}0.01 e^{0.1 \\theta} \\dot{\\theta}^{2}\\\\0\\end{matrix}\\right]$"
      ],
      "text/plain": [
       "Matrix([\n",
       "[0.01*exp(0.1*theta)*theta'**2],\n",
       "[                            0]])"
      ]
     },
     "execution_count": 16,
     "metadata": {},
     "output_type": "execute_result"
    }
   ],
   "source": [
    "b1 = -(r_ac - rs1*rdd - thetas1*thetadd)\n",
    "b2 = -(theta_ac - rs2*rdd - thetas2*thetadd)\n",
    "b = sm.Matrix([b1 , b2])\n",
    "b"
   ]
  },
  {
   "cell_type": "code",
   "execution_count": 17,
   "id": "f8e2be59",
   "metadata": {},
   "outputs": [
    {
     "data": {
      "text/latex": [
       "$\\displaystyle \\left[\\begin{matrix}- 1.0 r \\dot{\\theta}^{2} + 0.01 e^{0.1 \\theta} \\dot{\\theta}^{2} + 9.81 \\sin{\\left(\\theta \\right)}\\\\\\frac{9.81 \\cos{\\left(\\theta \\right)} + 2.0 \\dot{r} \\dot{\\theta}}{r}\\end{matrix}\\right]$"
      ],
      "text/plain": [
       "Matrix([\n",
       "[-1.0*r*theta'**2 + 0.01*exp(0.1*theta)*theta'**2 + 9.81*sin(theta)],\n",
       "[                               (9.81*cos(theta) + 2.0*r'*theta')/r]])"
      ]
     },
     "execution_count": 17,
     "metadata": {},
     "output_type": "execute_result"
    }
   ],
   "source": [
    "Fc =  M**(1/2)*sm.Matrix.pinv(A*(M**(-1/2)))*(b-(A*(M**(-1))*F))\n",
    "Fc"
   ]
  },
  {
   "cell_type": "code",
   "execution_count": 18,
   "id": "966f2f10",
   "metadata": {},
   "outputs": [
    {
     "data": {
      "text/latex": [
       "$\\displaystyle \\left[\\begin{matrix}0.01 e^{0.1 \\theta} \\dot{\\theta}^{2}\\\\0\\end{matrix}\\right]$"
      ],
      "text/plain": [
       "Matrix([\n",
       "[0.01*exp(0.1*theta)*theta'**2],\n",
       "[                            0]])"
      ]
     },
     "execution_count": 18,
     "metadata": {},
     "output_type": "execute_result"
    }
   ],
   "source": [
    "rf = F + Fc\n",
    "rf"
   ]
  },
  {
   "cell_type": "code",
   "execution_count": 19,
   "id": "689ec6aa",
   "metadata": {},
   "outputs": [
    {
     "data": {
      "text/latex": [
       "$\\displaystyle \\left[\\begin{matrix}1.0 r \\dot{\\theta}^{2} - 9.81 \\sin{\\left(\\theta \\right)}\\\\- \\frac{9.81 \\cos{\\left(\\theta \\right)} + 2.0 \\dot{r} \\dot{\\theta}}{r}\\end{matrix}\\right]$"
      ],
      "text/plain": [
       "Matrix([\n",
       "[   1.0*r*theta'**2 - 9.81*sin(theta)],\n",
       "[-(9.81*cos(theta) + 2.0*r'*theta')/r]])"
      ]
     },
     "execution_count": 19,
     "metadata": {},
     "output_type": "execute_result"
    }
   ],
   "source": [
    "F"
   ]
  },
  {
   "cell_type": "code",
   "execution_count": 20,
   "id": "809ef242",
   "metadata": {},
   "outputs": [],
   "source": [
    "rdd_func = sm.lambdify([theta, thetad, r, rd], rf[0])\n",
    "thetadd_func = sm.lambdify([theta, thetad, r, rd], rf[1])\n",
    "rd_func = sm.lambdify(rd, rd)\n",
    "thetad_func = sm.lambdify(thetad, thetad)\n",
    "\n",
    "Q_func = sm.lambdify([theta, thetad, r, rd], F)\n",
    "Qc_func = sm.lambdify([theta, thetad, r, rd], Fc)\n",
    "\n",
    "pinv_func = sm.lambdify([theta, thetad, r, rd], sm.Matrix.pinv(A*(M**(-1/2))))\n",
    "A_func = sm.lambdify([theta, thetad, r, rd], A)\n",
    "b_func = sm.lambdify([theta, thetad, r, rd], b)\n",
    "_AMQ_func = sm.lambdify([theta, thetad, r, rd], A*(M**(-1))*F )\n",
    "B_func = sm.lambdify([theta, thetad, r, rd],(b-(A*(M**(-1))*F)))"
   ]
  },
  {
   "cell_type": "code",
   "execution_count": 78,
   "id": "44fc2d39",
   "metadata": {},
   "outputs": [],
   "source": [
    "# ode func for scipy odeint\n",
    "def dSdt(S,t):\n",
    "    thetv, thetvd ,rv, rvd = S\n",
    "    print(S, t)\n",
    "    print(type(thetv) , type(thetvd), type(rv), type(rvd))\n",
    "    Q = Q_func(thetv, thetvd, rv, rvd)\n",
    "    Qc = Qc_func(thetv, thetvd, rv, rvd)\n",
    "    #print(f\" Q: {Q}\")\n",
    "    #print(f\" Qc: {Qc}\")\n",
    "    \n",
    "    print(f\" q0 : {thetad_func(thetvd)}\")\n",
    "    print(f\" qq0 :{thetadd_func(thetv, thetvd, rv, rvd)}\")\n",
    "    print(f\" q1 :{rd_func(rvd)}\")\n",
    "    print(f\" qq1 :{rdd_func(thetv, thetvd, rv, rvd)}\")\n",
    "    print(\"\\n\\n\")\n",
    "    return [\n",
    "        thetad_func(thetvd),\n",
    "        thetadd_func(thetv, thetvd, rv, rvd)/m,\n",
    "        rd_func(rvd),\n",
    "        rdd_func(thetv, thetvd, rv, rvd)/m\n",
    "    ]"
   ]
  },
  {
   "cell_type": "code",
   "execution_count": 79,
   "id": "723a66e0",
   "metadata": {},
   "outputs": [
    {
     "name": "stdout",
     "output_type": "stream",
     "text": [
      "[30.         -1.         20.08553692 -2.00855369] 0.0\n",
      "<class 'numpy.float64'> <class 'numpy.float64'> <class 'numpy.float64'> <class 'numpy.float64'>\n",
      " q0 : -1.0\n",
      " qq0 :0\n",
      " q1 :-2.008553692318767\n",
      " qq1 :0.2008553692318767\n",
      "\n",
      "\n",
      "\n",
      "[29.99997559 -1.         20.0854879  -2.00854879] 2.440966483826081e-05\n",
      "<class 'numpy.float64'> <class 'numpy.float64'> <class 'numpy.float64'> <class 'numpy.float64'>\n",
      " q0 : -1.0\n",
      " qq0 :0\n",
      " q1 :-2.008548789506523\n",
      " qq1 :0.2008548789512507\n",
      "\n",
      "\n",
      "\n",
      "[29.99997559 -1.         20.0854879  -2.00854879] 2.440966483826081e-05\n",
      "<class 'numpy.float64'> <class 'numpy.float64'> <class 'numpy.float64'> <class 'numpy.float64'>\n",
      " q0 : -1.0\n",
      " qq0 :0\n",
      " q1 :-2.008548789518491\n",
      " qq1 :0.2008548789512507\n",
      "\n",
      "\n",
      "\n",
      "[29.99995118 -1.         20.08543887 -2.00854389] 4.881932967652162e-05\n",
      "<class 'numpy.float64'> <class 'numpy.float64'> <class 'numpy.float64'> <class 'numpy.float64'>\n",
      " q0 : -1.0\n",
      " qq0 :0\n",
      " q1 :-2.0085438867182144\n",
      " qq1 :0.20085438867182143\n",
      "\n",
      "\n",
      "\n",
      "[29.99995118 -1.         20.08543887 -2.00854389] 4.881932967652162e-05\n",
      "<class 'numpy.float64'> <class 'numpy.float64'> <class 'numpy.float64'> <class 'numpy.float64'>\n",
      " q0 : -1.0\n",
      " qq0 :0\n",
      " q1 :-2.008543886730182\n",
      " qq1 :0.20085438867182143\n",
      "\n",
      "\n",
      "\n",
      "[29.95914817 -1.         20.00365143 -2.00036514] 0.040851830027993724\n",
      "<class 'numpy.float64'> <class 'numpy.float64'> <class 'numpy.float64'> <class 'numpy.float64'>\n",
      " q0 : -1.0\n",
      " qq0 :0\n",
      " q1 :-2.0003651429606024\n",
      " qq1 :0.20003651202105563\n",
      "\n",
      "\n",
      "\n",
      "[29.95914817 -1.         20.00365109 -2.00036511] 0.040851830027993724\n",
      "<class 'numpy.float64'> <class 'numpy.float64'> <class 'numpy.float64'> <class 'numpy.float64'>\n",
      " q0 : -1.0\n",
      " qq0 :0\n",
      " q1 :-2.0003651088752674\n",
      " qq1 :0.20003651202105563\n",
      "\n",
      "\n",
      "\n",
      "[29.91834516 -1.         19.92219703 -1.9922197 ] 0.08165484072631093\n",
      "<class 'numpy.float64'> <class 'numpy.float64'> <class 'numpy.float64'> <class 'numpy.float64'>\n",
      " q0 : -1.0\n",
      " qq0 :0\n",
      " q1 :-1.9922197028500839\n",
      " qq1 :0.19922196575415785\n",
      "\n",
      "\n",
      "\n",
      "[29.91834516 -1.         19.92219635 -1.99221963] 0.08165484072631093\n",
      "<class 'numpy.float64'> <class 'numpy.float64'> <class 'numpy.float64'> <class 'numpy.float64'>\n",
      " q0 : -1.0\n",
      " qq0 :0\n",
      " q1 :-1.9922196349052397\n",
      " qq1 :0.19922196575415785\n",
      "\n",
      "\n",
      "\n",
      "[29.87754215 -1.         19.84107397 -1.9841074 ] 0.12245785142462814\n",
      "<class 'numpy.float64'> <class 'numpy.float64'> <class 'numpy.float64'> <class 'numpy.float64'>\n",
      " q0 : -1.0\n",
      " qq0 :0\n",
      " q1 :-1.9841073968752543\n",
      " qq1 :0.19841073630984526\n",
      "\n",
      "\n",
      "\n",
      "[29.87754215 -1.         19.84107329 -1.98410733] 0.12245785142462814\n",
      "<class 'numpy.float64'> <class 'numpy.float64'> <class 'numpy.float64'> <class 'numpy.float64'>\n",
      " q0 : -1.0\n",
      " qq0 :0\n",
      " q1 :-1.9841073292070806\n",
      " qq1 :0.19841073630984526\n",
      "\n",
      "\n",
      "\n",
      "[29.70080694 -1.         19.49349839 -1.94934984] 0.2991930619082911\n",
      "<class 'numpy.float64'> <class 'numpy.float64'> <class 'numpy.float64'> <class 'numpy.float64'>\n",
      " q0 : -1.0\n",
      " qq0 :0\n",
      " q1 :-1.9493498373230698\n",
      " qq1 :0.1949349253673382\n",
      "\n",
      "\n",
      "\n",
      "[29.70080694 -1.         19.49349329 -1.94934933] 0.2991930619082911\n",
      "<class 'numpy.float64'> <class 'numpy.float64'> <class 'numpy.float64'> <class 'numpy.float64'>\n",
      " q0 : -1.0\n",
      " qq0 :0\n",
      " q1 :-1.9493493325024918\n",
      " qq1 :0.1949349253673382\n",
      "\n",
      "\n",
      "\n",
      "[29.74718413 -1.         19.58411089 -1.95841109] 0.2528158745392802\n",
      "<class 'numpy.float64'> <class 'numpy.float64'> <class 'numpy.float64'> <class 'numpy.float64'>\n",
      " q0 : -1.0\n",
      " qq0 :0\n",
      " q1 :-1.9584110885354007\n",
      " qq1 :0.19584107834034098\n",
      "\n",
      "\n",
      "\n",
      "[29.74718413 -1.         19.58410808 -1.95841081] 0.2528158745392802\n",
      "<class 'numpy.float64'> <class 'numpy.float64'> <class 'numpy.float64'> <class 'numpy.float64'>\n",
      " q0 : -1.0\n",
      " qq0 :0\n",
      " q1 :-1.958410809245949\n",
      " qq1 :0.19584107834034098\n",
      "\n",
      "\n",
      "\n",
      "[29.6168261  -1.         19.33046722 -1.93304672] 0.38317389765393234\n",
      "<class 'numpy.float64'> <class 'numpy.float64'> <class 'numpy.float64'> <class 'numpy.float64'>\n",
      " q0 : -1.0\n",
      " qq0 :0\n",
      " q1 :-1.933046723083105\n",
      " qq1 :0.1933047005360286\n",
      "\n",
      "\n",
      "\n",
      "[29.6168261  -1.         19.33047035 -1.93304703] 0.38317389765393234\n",
      "<class 'numpy.float64'> <class 'numpy.float64'> <class 'numpy.float64'> <class 'numpy.float64'>\n",
      " q0 : -1.0\n",
      " qq0 :0\n",
      " q1 :-1.9330470335551266\n",
      " qq1 :0.1933047005360286\n",
      "\n",
      "\n",
      "\n",
      "[29.63895404 -1.         19.37329005 -1.93732901] 0.3610459552769759\n",
      "<class 'numpy.float64'> <class 'numpy.float64'> <class 'numpy.float64'> <class 'numpy.float64'>\n",
      " q0 : -1.0\n",
      " qq0 :0\n",
      " q1 :-1.9373290051547079\n",
      " qq1 :0.19373291766696518\n",
      "\n",
      "\n",
      "\n",
      "[29.63895404 -1.         19.37329201 -1.9373292 ] 0.3610459552769759\n",
      "<class 'numpy.float64'> <class 'numpy.float64'> <class 'numpy.float64'> <class 'numpy.float64'>\n",
      " q0 : -1.0\n",
      " qq0 :0\n",
      " q1 :-1.9373292001660698\n",
      " qq1 :0.19373291766696518\n",
      "\n",
      "\n",
      "\n",
      "[29.53072396 -1.         19.16474537 -1.91647454] 0.4692760360146716\n",
      "<class 'numpy.float64'> <class 'numpy.float64'> <class 'numpy.float64'> <class 'numpy.float64'>\n",
      " q0 : -1.0\n",
      " qq0 :0\n",
      " q1 :-1.9164745368418201\n",
      " qq1 :0.19164745060548347\n",
      "\n",
      "\n",
      "\n",
      "[29.53072396 -1.         19.1647453  -1.91647453] 0.4692760360146716\n",
      "<class 'numpy.float64'> <class 'numpy.float64'> <class 'numpy.float64'> <class 'numpy.float64'>\n",
      " q0 : -1.0\n",
      " qq0 :0\n",
      " q1 :-1.9164745306572655\n",
      " qq1 :0.19164745060548347\n",
      "\n",
      "\n",
      "\n",
      "[29.42249388 -1.         18.95844343 -1.89584434] 0.5775061167523673\n",
      "<class 'numpy.float64'> <class 'numpy.float64'> <class 'numpy.float64'> <class 'numpy.float64'>\n",
      " q0 : -1.0\n",
      " qq0 :0\n",
      " q1 :-1.8958443433511774\n",
      " qq1 :0.18958443286710538\n",
      "\n",
      "\n",
      "\n",
      "[29.42249388 -1.         18.95844354 -1.89584435] 0.5775061167523673\n",
      "<class 'numpy.float64'> <class 'numpy.float64'> <class 'numpy.float64'> <class 'numpy.float64'>\n",
      " q0 : -1.0\n",
      " qq0 :0\n",
      " q1 :-1.8958443543675922\n",
      " qq1 :0.18958443286710538\n",
      "\n",
      "\n",
      "\n",
      "[29.3142638  -1.         18.75436243 -1.87543624] 0.685736197490063\n",
      "<class 'numpy.float64'> <class 'numpy.float64'> <class 'numpy.float64'> <class 'numpy.float64'>\n",
      " q0 : -1.0\n",
      " qq0 :0\n",
      " q1 :-1.8754362438082808\n",
      " qq1 :0.187543622792724\n",
      "\n",
      "\n",
      "\n",
      "[29.3142638  -1.         18.75436254 -1.87543625] 0.685736197490063\n",
      "<class 'numpy.float64'> <class 'numpy.float64'> <class 'numpy.float64'> <class 'numpy.float64'>\n",
      " q0 : -1.0\n",
      " qq0 :0\n",
      " q1 :-1.8754362547061076\n",
      " qq1 :0.187543622792724\n",
      "\n",
      "\n",
      "\n",
      "[29.09780364 -1.         18.35276694 -1.8352767 ] 0.9021963589654545\n",
      "<class 'numpy.float64'> <class 'numpy.float64'> <class 'numpy.float64'> <class 'numpy.float64'>\n",
      " q0 : -1.0\n",
      " qq0 :0\n",
      " q1 :-1.8352766950938553\n",
      " qq1 :0.18352767197839867\n",
      "\n",
      "\n",
      "\n",
      "[29.09780364 -1.         18.35276745 -1.83527675] 0.9021963589654545\n",
      "<class 'numpy.float64'> <class 'numpy.float64'> <class 'numpy.float64'> <class 'numpy.float64'>\n",
      " q0 : -1.0\n",
      " qq0 :0\n",
      " q1 :-1.835276746349896\n",
      " qq1 :0.18352767197839867\n",
      "\n",
      "\n",
      "\n",
      "[28.88134348 -1.         17.95977215 -1.79597722] 1.1186565204408458\n",
      "<class 'numpy.float64'> <class 'numpy.float64'> <class 'numpy.float64'> <class 'numpy.float64'>\n",
      " q0 : -1.0\n",
      " qq0 :0\n",
      " q1 :-1.7959772168641361\n",
      " qq1 :0.17959771641522032\n",
      "\n",
      "\n",
      "\n",
      "[28.88134348 -1.         17.95977185 -1.79597719] 1.1186565204408458\n",
      "<class 'numpy.float64'> <class 'numpy.float64'> <class 'numpy.float64'> <class 'numpy.float64'>\n",
      " q0 : -1.0\n",
      " qq0 :0\n",
      " q1 :-1.7959771875804178\n",
      " qq1 :0.17959771641522032\n",
      "\n",
      "\n",
      "\n",
      "[28.66488332 -1.         17.57519197 -1.7575192 ] 1.3351166819162372\n",
      "<class 'numpy.float64'> <class 'numpy.float64'> <class 'numpy.float64'> <class 'numpy.float64'>\n",
      " q0 : -1.0\n",
      " qq0 :0\n",
      " q1 :-1.757519199132684\n",
      " qq1 :0.17575191465055134\n",
      "\n",
      "\n",
      "\n",
      "[28.66488332 -1.         17.57519167 -1.75751917] 1.3351166819162372\n",
      "<class 'numpy.float64'> <class 'numpy.float64'> <class 'numpy.float64'> <class 'numpy.float64'>\n",
      " q0 : -1.0\n",
      " qq0 :0\n",
      " q1 :-1.7575191697070793\n",
      " qq1 :0.17575191465055134\n",
      "\n",
      "\n",
      "\n",
      "[28.44842316 -1.         17.1988467  -1.71988467] 1.5515768433916286\n",
      "<class 'numpy.float64'> <class 'numpy.float64'> <class 'numpy.float64'> <class 'numpy.float64'>\n",
      " q0 : -1.0\n",
      " qq0 :0\n",
      " q1 :-1.719884672816123\n",
      " qq1 :0.17198846466355724\n",
      "\n",
      "\n",
      "\n",
      "[28.44842316 -1.         17.19884667 -1.71988467] 1.5515768433916286\n",
      "<class 'numpy.float64'> <class 'numpy.float64'> <class 'numpy.float64'> <class 'numpy.float64'>\n",
      " q0 : -1.0\n",
      " qq0 :0\n",
      " q1 :-1.7198846696153427\n",
      " qq1 :0.17198846466355724\n",
      "\n",
      "\n",
      "\n",
      "[28.231963   -1.         16.83056053 -1.68305606] 1.76803700486702\n",
      "<class 'numpy.float64'> <class 'numpy.float64'> <class 'numpy.float64'> <class 'numpy.float64'>\n",
      " q0 : -1.0\n",
      " qq0 :0\n",
      " q1 :-1.6830560561033323\n",
      " qq1 :0.1683056030208367\n",
      "\n",
      "\n",
      "\n",
      "[28.231963   -1.         16.8305605  -1.68305605] 1.76803700486702\n",
      "<class 'numpy.float64'> <class 'numpy.float64'> <class 'numpy.float64'> <class 'numpy.float64'>\n",
      " q0 : -1.0\n",
      " qq0 :0\n",
      " q1 :-1.6830560529710916\n",
      " qq1 :0.1683056030208367\n",
      "\n",
      "\n",
      "\n",
      "[27.49396049 -1.         15.63318881 -1.56331889] 2.506039512951224\n",
      "<class 'numpy.float64'> <class 'numpy.float64'> <class 'numpy.float64'> <class 'numpy.float64'>\n",
      " q0 : -1.0\n",
      " qq0 :0\n",
      " q1 :-1.5633188861926084\n",
      " qq1 :0.15633187348709396\n",
      "\n",
      "\n",
      "\n",
      "[27.49396049 -1.         15.63318725 -1.56331873] 2.506039512951224\n",
      "<class 'numpy.float64'> <class 'numpy.float64'> <class 'numpy.float64'> <class 'numpy.float64'>\n",
      " q0 : -1.0\n",
      " qq0 :0\n",
      " q1 :-1.563318733260984\n",
      " qq1 :0.15633187348709396\n",
      "\n",
      "\n",
      "\n",
      "[26.75595798 -1.         14.52100068 -1.45210007] 3.244042021035428\n",
      "<class 'numpy.float64'> <class 'numpy.float64'> <class 'numpy.float64'> <class 'numpy.float64'>\n",
      " q0 : -1.0\n",
      " qq0 :0\n",
      " q1 :-1.452100073553756\n",
      " qq1 :0.14520998843371283\n",
      "\n",
      "\n",
      "\n",
      "[26.75595798 -1.         14.52099901 -1.45209991] 3.244042021035428\n",
      "<class 'numpy.float64'> <class 'numpy.float64'> <class 'numpy.float64'> <class 'numpy.float64'>\n",
      " q0 : -1.0\n",
      " qq0 :0\n",
      " q1 :-1.4520999095019804\n",
      " qq1 :0.14520998843371283\n",
      "\n",
      "\n",
      "\n",
      "[26.01795547 -1.         13.48793059 -1.34879308] 3.982044529119632\n",
      "<class 'numpy.float64'> <class 'numpy.float64'> <class 'numpy.float64'> <class 'numpy.float64'>\n",
      " q0 : -1.0\n",
      " qq0 :0\n",
      " q1 :-1.3487930763272775\n",
      " qq1 :0.13487934527094222\n",
      "\n",
      "\n",
      "\n",
      "[26.01795547 -1.         13.4879349  -1.34879349] 3.982044529119632\n",
      "<class 'numpy.float64'> <class 'numpy.float64'> <class 'numpy.float64'> <class 'numpy.float64'>\n",
      " q0 : -1.0\n",
      " qq0 :0\n",
      " q1 :-1.3487934866062723\n",
      " qq1 :0.13487934527094222\n",
      "\n",
      "\n",
      "\n",
      "[25.27995296 -1.         12.52836424 -1.25283643] 4.720047037203836\n",
      "<class 'numpy.float64'> <class 'numpy.float64'> <class 'numpy.float64'> <class 'numpy.float64'>\n",
      " q0 : -1.0\n",
      " qq0 :0\n",
      " q1 :-1.2528364277819442\n",
      " qq1 :0.12528365284611773\n",
      "\n",
      "\n",
      "\n",
      "[25.27995296 -1.         12.52836561 -1.25283657] 4.720047037203836\n",
      "<class 'numpy.float64'> <class 'numpy.float64'> <class 'numpy.float64'> <class 'numpy.float64'>\n",
      " q0 : -1.0\n",
      " qq0 :0\n",
      " q1 :-1.2528365666764134\n",
      " qq1 :0.12528365284611773\n",
      "\n",
      "\n",
      "\n",
      "[24.54195045 -1.         11.63706196 -1.16370621] 5.4580495452880395\n",
      "<class 'numpy.float64'> <class 'numpy.float64'> <class 'numpy.float64'> <class 'numpy.float64'>\n",
      " q0 : -1.0\n",
      " qq0 :0\n",
      " q1 :-1.16370621047292\n",
      " qq1 :0.11637062471601438\n",
      "\n",
      "\n",
      "\n",
      "[24.54195045 -1.         11.63706279 -1.16370629] 5.4580495452880395\n",
      "<class 'numpy.float64'> <class 'numpy.float64'> <class 'numpy.float64'> <class 'numpy.float64'>\n",
      " q0 : -1.0\n",
      " qq0 :0\n",
      " q1 :-1.1637062893865437\n",
      " qq1 :0.11637062471601438\n",
      "\n",
      "\n",
      "\n",
      "[23.80394795 -1.         10.809169   -1.08091692] 6.196052053372243\n",
      "<class 'numpy.float64'> <class 'numpy.float64'> <class 'numpy.float64'> <class 'numpy.float64'>\n",
      " q0 : -1.0\n",
      " qq0 :0\n",
      " q1 :-1.0809169150593023\n",
      " qq1 :0.10809169424065919\n",
      "\n",
      "\n",
      "\n",
      "[23.80394795 -1.         10.80916975 -1.08091699] 6.196052053372243\n",
      "<class 'numpy.float64'> <class 'numpy.float64'> <class 'numpy.float64'> <class 'numpy.float64'>\n",
      " q0 : -1.0\n",
      " qq0 :0\n",
      " q1 :-1.0809169883587908\n",
      " qq1 :0.10809169424065919\n",
      "\n",
      "\n",
      "\n",
      "[22.86569694 -1.          9.84112056 -0.98411208] 7.134303062032089\n",
      "<class 'numpy.float64'> <class 'numpy.float64'> <class 'numpy.float64'> <class 'numpy.float64'>\n",
      " q0 : -1.0\n",
      " qq0 :0\n",
      " q1 :-0.984112076047826\n",
      " qq1 :0.09841121654012457\n",
      "\n",
      "\n",
      "\n",
      "[22.86569694 -1.          9.84112203 -0.98411222] 7.134303062032089\n",
      "<class 'numpy.float64'> <class 'numpy.float64'> <class 'numpy.float64'> <class 'numpy.float64'>\n",
      " q0 : -1.0\n",
      " qq0 :0\n",
      " q1 :-0.9841122183055443\n",
      " qq1 :0.09841121654012457\n",
      "\n",
      "\n",
      "\n",
      "[21.92744593 -1.          8.95976986 -0.89597701] 8.072554070691934\n",
      "<class 'numpy.float64'> <class 'numpy.float64'> <class 'numpy.float64'> <class 'numpy.float64'>\n",
      " q0 : -1.0\n",
      " qq0 :0\n",
      " q1 :-0.8959770122523071\n",
      " qq1 :0.08959770321801759\n",
      "\n",
      "\n",
      "\n",
      "[21.92744593 -1.          8.95977052 -0.89597708] 8.072554070691934\n",
      "<class 'numpy.float64'> <class 'numpy.float64'> <class 'numpy.float64'> <class 'numpy.float64'>\n",
      " q0 : -1.0\n",
      " qq0 :0\n",
      " q1 :-0.8959770750002175\n",
      " qq1 :0.08959770321801759\n",
      "\n",
      "\n",
      "\n",
      "[20.98919492 -1.          8.15735324 -0.81573535] 9.01080507935178\n",
      "<class 'numpy.float64'> <class 'numpy.float64'> <class 'numpy.float64'> <class 'numpy.float64'>\n",
      " q0 : -1.0\n",
      " qq0 :0\n",
      " q1 :-0.8157353499786677\n",
      " qq1 :0.08157351066451715\n",
      "\n",
      "\n",
      "\n",
      "[20.98919492 -1.          8.15735111 -0.81573515] 9.01080507935178\n",
      "<class 'numpy.float64'> <class 'numpy.float64'> <class 'numpy.float64'> <class 'numpy.float64'>\n",
      " q0 : -1.0\n",
      " qq0 :0\n",
      " q1 :-0.8157351453576724\n",
      " qq1 :0.08157351066451715\n",
      "\n",
      "\n",
      "\n",
      "[20.05094391 -1.          7.42679568 -0.7426796 ] 9.949056088011625\n",
      "<class 'numpy.float64'> <class 'numpy.float64'> <class 'numpy.float64'> <class 'numpy.float64'>\n",
      " q0 : -1.0\n",
      " qq0 :0\n",
      " q1 :-0.7426796047407229\n",
      " qq1 :0.07426794887746596\n",
      "\n",
      "\n",
      "\n",
      "[20.05094391 -1.          7.42679492 -0.74267953] 9.949056088011625\n",
      "<class 'numpy.float64'> <class 'numpy.float64'> <class 'numpy.float64'> <class 'numpy.float64'>\n",
      " q0 : -1.0\n",
      " qq0 :0\n",
      " q1 :-0.7426795264656607\n",
      " qq1 :0.07426794887746596\n",
      "\n",
      "\n",
      "\n",
      "[19.1126929  -1.          6.76166614 -0.67616665] 10.88730709667147\n",
      "<class 'numpy.float64'> <class 'numpy.float64'> <class 'numpy.float64'> <class 'numpy.float64'>\n",
      " q0 : -1.0\n",
      " qq0 :0\n",
      " q1 :-0.6761666462723032\n",
      " qq1 :0.06761665871106277\n",
      "\n",
      "\n",
      "\n",
      "[19.1126929  -1.          6.76166588 -0.67616662] 10.88730709667147\n",
      "<class 'numpy.float64'> <class 'numpy.float64'> <class 'numpy.float64'> <class 'numpy.float64'>\n",
      " q0 : -1.0\n",
      " qq0 :0\n",
      " q1 :-0.6761666240409577\n",
      " qq1 :0.06761665871106277\n",
      "\n",
      "\n",
      "\n",
      "[18.17444189 -1.          6.15610463 -0.6156105 ] 11.825558105331316\n",
      "<class 'numpy.float64'> <class 'numpy.float64'> <class 'numpy.float64'> <class 'numpy.float64'>\n",
      " q0 : -1.0\n",
      " qq0 :0\n",
      " q1 :-0.6156105024681825\n",
      " qq1 :0.061561044896926743\n",
      "\n",
      "\n",
      "\n",
      "[18.17444189 -1.          6.15610446 -0.61561049] 11.825558105331316\n",
      "<class 'numpy.float64'> <class 'numpy.float64'> <class 'numpy.float64'> <class 'numpy.float64'>\n",
      " q0 : -1.0\n",
      " qq0 :0\n",
      " q1 :-0.6156104852070504\n",
      " qq1 :0.061561044896926743\n",
      "\n",
      "\n",
      "\n",
      "[17.23619089 -1.          5.60477607 -0.56047765] 12.763809113991162\n",
      "<class 'numpy.float64'> <class 'numpy.float64'> <class 'numpy.float64'> <class 'numpy.float64'>\n",
      " q0 : -1.0\n",
      " qq0 :0\n",
      " q1 :-0.5604776497492185\n",
      " qq1 :0.056047759842670034\n",
      "\n",
      "\n",
      "\n",
      "[17.23619089 -1.          5.60477591 -0.56047763] 12.763809113991162\n",
      "<class 'numpy.float64'> <class 'numpy.float64'> <class 'numpy.float64'> <class 'numpy.float64'>\n",
      " q0 : -1.0\n",
      " qq0 :0\n",
      " q1 :-0.5604776340339596\n",
      " qq1 :0.056047759842670034\n",
      "\n",
      "\n",
      "\n",
      "[15.85965121 -1.          4.88400314 -0.48840036] 14.140348785530183\n",
      "<class 'numpy.float64'> <class 'numpy.float64'> <class 'numpy.float64'> <class 'numpy.float64'>\n",
      " q0 : -1.0\n",
      " qq0 :0\n",
      " q1 :-0.4884003608777636\n",
      " qq1 :0.04884002760430376\n",
      "\n",
      "\n",
      "\n",
      "[15.85965121 -1.          4.88400257 -0.48840031] 14.140348785530183\n",
      "<class 'numpy.float64'> <class 'numpy.float64'> <class 'numpy.float64'> <class 'numpy.float64'>\n",
      " q0 : -1.0\n",
      " qq0 :0\n",
      " q1 :-0.48840030622667857\n",
      " qq1 :0.04884002760430376\n",
      "\n",
      "\n",
      "\n",
      "[14.48311154 -1.          4.25592173 -0.42559222] 15.516888457069204\n",
      "<class 'numpy.float64'> <class 'numpy.float64'> <class 'numpy.float64'> <class 'numpy.float64'>\n",
      " q0 : -1.0\n",
      " qq0 :0\n",
      " q1 :-0.4255922224143006\n",
      " qq1 :0.04255920848727929\n",
      "\n",
      "\n",
      "\n",
      "[14.48311154 -1.          4.25592063 -0.42559212] 15.516888457069204\n",
      "<class 'numpy.float64'> <class 'numpy.float64'> <class 'numpy.float64'> <class 'numpy.float64'>\n",
      " q0 : -1.0\n",
      " qq0 :0\n",
      " q1 :-0.4255921184699266\n",
      " qq1 :0.04255920848727929\n",
      "\n",
      "\n",
      "\n",
      "[13.10657187 -1.          3.70860891 -0.37086095] 16.893428128608225\n",
      "<class 'numpy.float64'> <class 'numpy.float64'> <class 'numpy.float64'> <class 'numpy.float64'>\n",
      " q0 : -1.0\n",
      " qq0 :0\n",
      " q1 :-0.3708609503264201\n",
      " qq1 :0.03708610162423608\n",
      "\n",
      "\n",
      "\n",
      "[13.10657187 -1.          3.70861003 -0.37086105] 16.893428128608225\n",
      "<class 'numpy.float64'> <class 'numpy.float64'> <class 'numpy.float64'> <class 'numpy.float64'>\n",
      " q0 : -1.0\n",
      " qq0 :0\n",
      " q1 :-0.37086105441263534\n",
      " qq1 :0.03708610162423608\n",
      "\n",
      "\n",
      "\n",
      "[11.7300322  -1.          3.23168227 -0.32316828] 18.269967800147246\n",
      "<class 'numpy.float64'> <class 'numpy.float64'> <class 'numpy.float64'> <class 'numpy.float64'>\n",
      " q0 : -1.0\n",
      " qq0 :0\n",
      " q1 :-0.323168282424951\n",
      " qq1 :0.03231683535877458\n",
      "\n",
      "\n",
      "\n",
      "[11.7300322  -1.          3.23168336 -0.32316839] 18.269967800147246\n",
      "<class 'numpy.float64'> <class 'numpy.float64'> <class 'numpy.float64'> <class 'numpy.float64'>\n",
      " q0 : -1.0\n",
      " qq0 :0\n",
      " q1 :-0.3231683932775369\n",
      " qq1 :0.03231683535877458\n",
      "\n",
      "\n",
      "\n",
      "[10.35349253 -1.          2.81608892 -0.28160896] 19.646507471686267\n",
      "<class 'numpy.float64'> <class 'numpy.float64'> <class 'numpy.float64'> <class 'numpy.float64'>\n",
      " q0 : -1.0\n",
      " qq0 :0\n",
      " q1 :-0.28160896231158505\n",
      " qq1 :0.028160895911573332\n",
      "\n",
      "\n",
      "\n",
      "[10.35349253 -1.          2.81608934 -0.281609  ] 19.646507471686267\n",
      "<class 'numpy.float64'> <class 'numpy.float64'> <class 'numpy.float64'> <class 'numpy.float64'>\n",
      " q0 : -1.0\n",
      " qq0 :0\n",
      " q1 :-0.2816089994120469\n",
      " qq1 :0.028160895911573332\n",
      "\n",
      "\n",
      "\n",
      "[ 8.97695286 -1.          2.45394048 -0.24539412] 21.023047143225288\n",
      "<class 'numpy.float64'> <class 'numpy.float64'> <class 'numpy.float64'> <class 'numpy.float64'>\n",
      " q0 : -1.0\n",
      " qq0 :0\n",
      " q1 :-0.2453941200011262\n",
      " qq1 :0.024539409559703206\n",
      "\n",
      "\n",
      "\n",
      "[ 8.97695286 -1.          2.45394064 -0.24539414] 21.023047143225288\n",
      "<class 'numpy.float64'> <class 'numpy.float64'> <class 'numpy.float64'> <class 'numpy.float64'>\n",
      " q0 : -1.0\n",
      " qq0 :0\n",
      " q1 :-0.2453941364155173\n",
      " qq1 :0.024539409559703206\n",
      "\n",
      "\n",
      "\n",
      "[ 7.60041319 -1.          2.13836407 -0.21383648] 22.39958681476431\n",
      "<class 'numpy.float64'> <class 'numpy.float64'> <class 'numpy.float64'> <class 'numpy.float64'>\n",
      " q0 : -1.0\n",
      " qq0 :0\n",
      " q1 :-0.21383648438434652\n",
      " qq1 :0.021383645727385152\n",
      "\n",
      "\n",
      "\n",
      "[ 7.60041319 -1.          2.13836421 -0.2138365 ] 22.39958681476431\n",
      "<class 'numpy.float64'> <class 'numpy.float64'> <class 'numpy.float64'> <class 'numpy.float64'>\n",
      " q0 : -1.0\n",
      " qq0 :0\n",
      " q1 :-0.2138364985473572\n",
      " qq1 :0.021383645727385152\n",
      "\n",
      "\n",
      "\n",
      "[ 6.22387351 -1.          1.86337071 -0.18633716] 23.77612648630333\n",
      "<class 'numpy.float64'> <class 'numpy.float64'> <class 'numpy.float64'> <class 'numpy.float64'>\n",
      " q0 : -1.0\n",
      " qq0 :0\n",
      " q1 :-0.1863371551185411\n",
      " qq1 :0.018633712579018046\n",
      "\n",
      "\n",
      "\n",
      "[ 6.22387351 -1.          1.86337084 -0.18633717] 23.77612648630333\n",
      "<class 'numpy.float64'> <class 'numpy.float64'> <class 'numpy.float64'> <class 'numpy.float64'>\n",
      " q0 : -1.0\n",
      " qq0 :0\n",
      " q1 :-0.186337167460191\n",
      " qq1 :0.018633712579018046\n",
      "\n",
      "\n",
      "\n",
      "[ 4.68969242 -1.          1.5983452  -0.15983461] 25.310307584066635\n",
      "<class 'numpy.float64'> <class 'numpy.float64'> <class 'numpy.float64'> <class 'numpy.float64'>\n",
      " q0 : -1.0\n",
      " qq0 :0\n",
      " q1 :-0.15983461027976792\n",
      " qq1 :0.015983458354273585\n",
      "\n",
      "\n",
      "\n",
      "[ 4.68969242 -1.          1.59834536 -0.15983463] 25.310307584066635\n",
      "<class 'numpy.float64'> <class 'numpy.float64'> <class 'numpy.float64'> <class 'numpy.float64'>\n",
      " q0 : -1.0\n",
      " qq0 :0\n",
      " q1 :-0.15983462622976102\n",
      " qq1 :0.015983458354273585\n",
      "\n",
      "\n",
      "\n",
      "[ 3.15551132 -1.          1.37101391 -0.13710149] 26.84448868182994\n",
      "<class 'numpy.float64'> <class 'numpy.float64'> <class 'numpy.float64'> <class 'numpy.float64'>\n",
      " q0 : -1.0\n",
      " qq0 :0\n",
      " q1 :-0.13710148872654696\n",
      " qq1 :0.013710147126046358\n",
      "\n",
      "\n",
      "\n",
      "[ 3.15551132 -1.          1.37101419 -0.13710151] 26.84448868182994\n",
      "<class 'numpy.float64'> <class 'numpy.float64'> <class 'numpy.float64'> <class 'numpy.float64'>\n",
      " q0 : -1.0\n",
      " qq0 :0\n",
      " q1 :-0.13710151458114472\n",
      " qq1 :0.013710147126046358\n",
      "\n",
      "\n",
      "\n",
      "[ 1.62133022 -1.          1.17601589 -0.11760169] 28.378669779593245\n",
      "<class 'numpy.float64'> <class 'numpy.float64'> <class 'numpy.float64'> <class 'numpy.float64'>\n",
      " q0 : -1.0\n",
      " qq0 :0\n",
      " q1 :-0.1176016927858102\n",
      " qq1 :0.011760166670536549\n",
      "\n",
      "\n",
      "\n",
      "[ 1.62133022 -1.          1.17601608 -0.11760171] 28.378669779593245\n",
      "<class 'numpy.float64'> <class 'numpy.float64'> <class 'numpy.float64'> <class 'numpy.float64'>\n",
      " q0 : -1.0\n",
      " qq0 :0\n",
      " q1 :-0.11760171068723023\n",
      " qq1 :0.011760166670536549\n",
      "\n",
      "\n",
      "\n",
      "[ 0.08714912 -1.          1.00875215 -0.10087533] 29.91285087735655\n",
      "<class 'numpy.float64'> <class 'numpy.float64'> <class 'numpy.float64'> <class 'numpy.float64'>\n",
      " q0 : -1.0\n",
      " qq0 :0\n",
      " q1 :-0.10087532665339514\n",
      " qq1 :0.010087529976688237\n",
      "\n",
      "\n",
      "\n",
      "[ 0.08714912 -1.          1.00875234 -0.10087534] 29.91285087735655\n",
      "<class 'numpy.float64'> <class 'numpy.float64'> <class 'numpy.float64'> <class 'numpy.float64'>\n",
      " q0 : -1.0\n",
      " qq0 :0\n",
      " q1 :-0.10087534427185055\n",
      " qq1 :0.010087529976688237\n",
      "\n",
      "\n",
      "\n",
      "[-1.44703198 -1.          0.86527821 -0.08652794] 31.447031975119856\n",
      "<class 'numpy.float64'> <class 'numpy.float64'> <class 'numpy.float64'> <class 'numpy.float64'>\n",
      " q0 : -1.0\n",
      " qq0 :0\n",
      " q1 :-0.08652793794910352\n",
      " qq1 :0.008652790719839444\n",
      "\n",
      "\n",
      "\n",
      "[-1.44703198 -1.          0.86527835 -0.08652795] 31.447031975119856\n",
      "<class 'numpy.float64'> <class 'numpy.float64'> <class 'numpy.float64'> <class 'numpy.float64'>\n",
      " q0 : -1.0\n",
      " qq0 :0\n",
      " q1 :-0.0865279521623907\n",
      " qq1 :0.008652790719839444\n",
      "\n",
      "\n",
      "\n",
      "[-2.98121307 -1.          0.74221038 -0.07422116] 32.981213072883165\n",
      "<class 'numpy.float64'> <class 'numpy.float64'> <class 'numpy.float64'> <class 'numpy.float64'>\n",
      " q0 : -1.0\n",
      " qq0 :0\n",
      " q1 :-0.07422116280891523\n",
      " qq1 :0.007422112986465679\n",
      "\n",
      "\n",
      "\n",
      "[-2.98121307 -1.          0.74221051 -0.07422118] 32.981213072883165\n",
      "<class 'numpy.float64'> <class 'numpy.float64'> <class 'numpy.float64'> <class 'numpy.float64'>\n",
      " q0 : -1.0\n",
      " qq0 :0\n",
      " q1 :-0.07422117522127919\n",
      " qq1 :0.007422112986465679\n",
      "\n",
      "\n",
      "\n",
      "[-4.51539417 -1.          0.63664637 -0.06366477] 34.51539417064647\n",
      "<class 'numpy.float64'> <class 'numpy.float64'> <class 'numpy.float64'> <class 'numpy.float64'>\n",
      " q0 : -1.0\n",
      " qq0 :0\n",
      " q1 :-0.06366476818148564\n",
      " qq1 :0.006366473311038853\n",
      "\n",
      "\n",
      "\n",
      "[-4.51539417 -1.          0.63664648 -0.06366478] 34.51539417064647\n",
      "<class 'numpy.float64'> <class 'numpy.float64'> <class 'numpy.float64'> <class 'numpy.float64'>\n",
      " q0 : -1.0\n",
      " qq0 :0\n",
      " q1 :-0.06366477880379424\n",
      " qq1 :0.006366473311038853\n",
      "\n",
      "\n",
      "\n",
      "[-6.04957527 -1.          0.5460966  -0.0546098 ] 36.04957526840978\n",
      "<class 'numpy.float64'> <class 'numpy.float64'> <class 'numpy.float64'> <class 'numpy.float64'>\n",
      " q0 : -1.0\n",
      " qq0 :0\n",
      " q1 :-0.0546097989346032\n",
      " qq1 :0.005460976206382283\n",
      "\n",
      "\n",
      "\n",
      "[-6.04957527 -1.          0.5460967  -0.05460981] 36.04957526840978\n",
      "<class 'numpy.float64'> <class 'numpy.float64'> <class 'numpy.float64'> <class 'numpy.float64'>\n",
      " q0 : -1.0\n",
      " qq0 :0\n",
      " q1 :-0.0546098080461115\n",
      " qq1 :0.005460976206382283\n",
      "\n",
      "\n",
      "\n",
      "[-7.58375637 -1.          0.46842563 -0.04684271] 37.58375636617309\n",
      "<class 'numpy.float64'> <class 'numpy.float64'> <class 'numpy.float64'> <class 'numpy.float64'>\n",
      " q0 : -1.0\n",
      " qq0 :0\n",
      " q1 :-0.046842708869054894\n",
      " qq1 :0.004684267045455839\n",
      "\n",
      "\n",
      "\n",
      "[-7.58375637 -1.          0.46842572 -0.04684272] 37.58375636617309\n",
      "<class 'numpy.float64'> <class 'numpy.float64'> <class 'numpy.float64'> <class 'numpy.float64'>\n",
      " q0 : -1.0\n",
      " qq0 :0\n",
      " q1 :-0.046842716684642495\n",
      " qq1 :0.004684267045455839\n",
      "\n",
      "\n",
      "\n",
      "[-9.11793746 -1.          0.40180172 -0.04018032] 39.1179374639364\n",
      "<class 'numpy.float64'> <class 'numpy.float64'> <class 'numpy.float64'> <class 'numpy.float64'>\n",
      " q0 : -1.0\n",
      " qq0 :0\n",
      " q1 :-0.040180324222402454\n",
      " qq1 :0.004018028448375107\n",
      "\n",
      "\n",
      "\n",
      "[-9.11793746 -1.          0.40180179 -0.04018033] 39.1179374639364\n",
      "<class 'numpy.float64'> <class 'numpy.float64'> <class 'numpy.float64'> <class 'numpy.float64'>\n",
      " q0 : -1.0\n",
      " qq0 :0\n",
      " q1 :-0.040180330926386905\n",
      " qq1 :0.004018028448375107\n",
      "\n",
      "\n",
      "\n",
      "[-10.65211856  -1.           0.34465364  -0.03446552] 40.65211856169971\n",
      "<class 'numpy.float64'> <class 'numpy.float64'> <class 'numpy.float64'> <class 'numpy.float64'>\n",
      " q0 : -1.0\n",
      " qq0 :0\n",
      " q1 :-0.03446552385246285\n",
      " qq1 :0.0034465482977989776\n",
      "\n",
      "\n",
      "\n",
      "[-10.65211856  -1.           0.3446537   -0.03446553] 40.65211856169971\n",
      "<class 'numpy.float64'> <class 'numpy.float64'> <class 'numpy.float64'> <class 'numpy.float64'>\n",
      " q0 : -1.0\n",
      " qq0 :0\n",
      " q1 :-0.034465529602946327\n",
      " qq1 :0.0034465482977989776\n",
      "\n",
      "\n",
      "\n",
      "[-12.35880586  -1.           0.29057749  -0.02905792] 42.35880585724115\n",
      "<class 'numpy.float64'> <class 'numpy.float64'> <class 'numpy.float64'> <class 'numpy.float64'>\n",
      " q0 : -1.0\n",
      " qq0 :0\n",
      " q1 :-0.029057916832746222\n",
      " qq1 :0.002905787701561201\n",
      "\n",
      "\n",
      "\n",
      "[-12.35880586  -1.           0.29057757  -0.02905792] 42.35880585724115\n",
      "<class 'numpy.float64'> <class 'numpy.float64'> <class 'numpy.float64'> <class 'numpy.float64'>\n",
      " q0 : -1.0\n",
      " qq0 :0\n",
      " q1 :-0.029057924096579903\n",
      " qq1 :0.002905787701561201\n",
      "\n",
      "\n",
      "\n",
      "[-14.06549315  -1.           0.2449858   -0.02449876] 44.065493152782594\n",
      "<class 'numpy.float64'> <class 'numpy.float64'> <class 'numpy.float64'> <class 'numpy.float64'>\n",
      " q0 : -1.0\n",
      " qq0 :0\n",
      " q1 :-0.02449875578863854\n",
      " qq1 :0.0024498719985837866\n",
      "\n",
      "\n",
      "\n",
      "[-14.06549315  -1.           0.24498592  -0.02449877] 44.065493152782594\n",
      "<class 'numpy.float64'> <class 'numpy.float64'> <class 'numpy.float64'> <class 'numpy.float64'>\n",
      " q0 : -1.0\n",
      " qq0 :0\n",
      " q1 :-0.024498767344002324\n",
      " qq1 :0.0024498719985837866\n",
      "\n",
      "\n",
      "\n",
      "[-15.77218045  -1.           0.20654747  -0.02065493] 45.772180448324036\n",
      "<class 'numpy.float64'> <class 'numpy.float64'> <class 'numpy.float64'> <class 'numpy.float64'>\n",
      " q0 : -1.0\n",
      " qq0 :0\n",
      " q1 :-0.02065493077335049\n",
      " qq1 :0.0020654890948228156\n",
      "\n",
      "\n",
      "\n",
      "[-15.77218045  -1.           0.20654755  -0.02065494] 45.772180448324036\n",
      "<class 'numpy.float64'> <class 'numpy.float64'> <class 'numpy.float64'> <class 'numpy.float64'>\n",
      " q0 : -1.0\n",
      " qq0 :0\n",
      " q1 :-0.02065493859283347\n",
      " qq1 :0.0020654890948228156\n",
      "\n",
      "\n",
      "\n",
      "[-1.74788677e+01 -1.00000000e+00  1.74140034e-01 -1.74141958e-02] 47.47886774386548\n",
      "<class 'numpy.float64'> <class 'numpy.float64'> <class 'numpy.float64'> <class 'numpy.float64'>\n",
      " q0 : -1.0\n",
      " qq0 :0\n",
      " q1 :-0.01741419578748528\n",
      " qq1 :0.0017414155528526355\n",
      "\n",
      "\n",
      "\n",
      "[-1.74788677e+01 -1.00000000e+00  1.74140117e-01 -1.74142034e-02] 47.47886774386548\n",
      "<class 'numpy.float64'> <class 'numpy.float64'> <class 'numpy.float64'> <class 'numpy.float64'>\n",
      " q0 : -1.0\n",
      " qq0 :0\n",
      " q1 :-0.017414203394937603\n",
      " qq1 :0.0017414155528526355\n",
      "\n",
      "\n",
      "\n",
      "[-1.91855550e+01 -1.00000000e+00  1.46817308e-01 -1.46819309e-02] 49.18555503940692\n",
      "<class 'numpy.float64'> <class 'numpy.float64'> <class 'numpy.float64'> <class 'numpy.float64'>\n",
      " q0 : -1.0\n",
      " qq0 :0\n",
      " q1 :-0.014681930879966103\n",
      " qq1 :0.0014681888833584904\n",
      "\n",
      "\n",
      "\n",
      "[-1.91855550e+01 -1.00000000e+00  1.46817369e-01 -1.46819369e-02] 49.18555503940692\n",
      "<class 'numpy.float64'> <class 'numpy.float64'> <class 'numpy.float64'> <class 'numpy.float64'>\n",
      " q0 : -1.0\n",
      " qq0 :0\n",
      " q1 :-0.014681936891606434\n",
      " qq1 :0.0014681888833584904\n",
      "\n",
      "\n",
      "\n",
      "[-2.08922423e+01 -1.00000000e+00  1.23781470e-01 -1.23783556e-02] 50.892242334948364\n",
      "<class 'numpy.float64'> <class 'numpy.float64'> <class 'numpy.float64'> <class 'numpy.float64'>\n",
      " q0 : -1.0\n",
      " qq0 :0\n",
      " q1 :-0.012378355590485439\n",
      " qq1 :0.0012378312538247232\n",
      "\n",
      "\n",
      "\n",
      "[-2.08922423e+01 -1.00000000e+00  1.23781525e-01 -1.23783608e-02] 50.892242334948364\n",
      "<class 'numpy.float64'> <class 'numpy.float64'> <class 'numpy.float64'> <class 'numpy.float64'>\n",
      " q0 : -1.0\n",
      " qq0 :0\n",
      " q1 :-0.012378360757319512\n",
      " qq1 :0.0012378312538247232\n",
      "\n",
      "\n",
      "\n"
     ]
    }
   ],
   "source": [
    "t = np.linspace(0, 50, 251)\n",
    "r_ic = math.exp(3)\n",
    "theta_ic = 30\n",
    "r_d_ic = -0.1*math.exp(3)\n",
    "theta_d_ic = -1\n",
    "ans = odeint(dSdt, y0=[theta_ic,theta_d_ic,r_ic,r_d_ic], t=t)"
   ]
  },
  {
   "cell_type": "code",
   "execution_count": 80,
   "id": "e8e6521a",
   "metadata": {},
   "outputs": [
    {
     "data": {
      "text/plain": [
       "array([[ 3.00000000e+01,  2.98000000e+01,  2.96000000e+01, ...,\n",
       "        -1.96000000e+01, -1.98000000e+01, -2.00000000e+01],\n",
       "       [-1.00000000e+00, -1.00000000e+00, -1.00000000e+00, ...,\n",
       "        -1.00000000e+00, -1.00000000e+00, -1.00000000e+00],\n",
       "       [ 2.00855369e+01,  1.96878167e+01,  1.92979720e+01, ...,\n",
       "         1.40856879e-01,  1.38067686e-01,  1.35333722e-01],\n",
       "       [-2.00855369e+00, -1.96878167e+00, -1.92979720e+00, ...,\n",
       "        -1.40858902e-02, -1.38069718e-02, -1.35335764e-02]])"
      ]
     },
     "execution_count": 80,
     "metadata": {},
     "output_type": "execute_result"
    }
   ],
   "source": [
    "ans.T"
   ]
  },
  {
   "cell_type": "code",
   "execution_count": 24,
   "id": "4211cae0",
   "metadata": {},
   "outputs": [],
   "source": [
    "thetv_ = ans.T[0]\n",
    "thetvd_ = ans.T[1]\n",
    "rv_ = ans.T[2]\n",
    "rvd_ = ans.T[3]"
   ]
  },
  {
   "cell_type": "code",
   "execution_count": 25,
   "id": "00c17994",
   "metadata": {},
   "outputs": [],
   "source": [
    "import matplotlib.pyplot as plt"
   ]
  },
  {
   "cell_type": "code",
   "execution_count": 26,
   "id": "fbad67b4",
   "metadata": {},
   "outputs": [
    {
     "data": {
      "text/plain": [
       "Text(0.5, 1.0, 'Relation between r and θ in constrained system')"
      ]
     },
     "execution_count": 26,
     "metadata": {},
     "output_type": "execute_result"
    },
    {
     "data": {
      "image/png": "[encoded data removed]",
      "text/plain": [
       "<Figure size 432x288 with 1 Axes>"
      ]
     },
     "metadata": {
      "needs_background": "light"
     },
     "output_type": "display_data"
    }
   ],
   "source": [
    "plt.axis([-30, 30, 0, 25])\n",
    "plt.plot(thetv_, rv_)\n",
    "plt.title(\"Relation between r and θ in constrained system\")"
   ]
  },
  {
   "cell_type": "code",
   "execution_count": 27,
   "id": "5bb01bbc",
   "metadata": {},
   "outputs": [
    {
     "data": {
      "image/png": "[encoded data removed]",
      "text/plain": [
       "<Figure size 432x288 with 1 Axes>"
      ]
     },
     "metadata": {
      "needs_background": "light"
     },
     "output_type": "display_data"
    }
   ],
   "source": [
    "plt.axis([0, 50, -30, 30])\n",
    "plt.plot(t, thetv_,color='b', label='theta')\n",
    "plt.plot(t, rv_, color='r', label='r')\n",
    "plt.title(\"histories of the particle in constrained system\")\n",
    "plt.legend()\n",
    "plt.show()"
   ]
  },
  {
   "cell_type": "code",
   "execution_count": 28,
   "id": "257781e9",
   "metadata": {},
   "outputs": [],
   "source": [
    "x = r*sm.cos(theta)\n",
    "y = r*sm.sin(theta)\n",
    "def get_xy(the, d):\n",
    "    return (d*np.cos(the),\n",
    "            d*np.sin(the))\n",
    "\n",
    "\n",
    "x,y = get_xy(ans.T[0],ans.T[2])"
   ]
  },
  {
   "cell_type": "code",
   "execution_count": 29,
   "id": "08538bcf",
   "metadata": {},
   "outputs": [
    {
     "data": {
      "text/plain": [
       "Text(0.5, 1.0, 'Relation between r and θ in constrained system')"
      ]
     },
     "execution_count": 29,
     "metadata": {},
     "output_type": "execute_result"
    },
    {
     "data": {
      "image/png": "[encoded data removed]",
      "text/plain": [
       "<Figure size 432x288 with 1 Axes>"
      ]
     },
     "metadata": {
      "needs_background": "light"
     },
     "output_type": "display_data"
    }
   ],
   "source": [
    "plt.axis([-20, 15, -20, 15])\n",
    "plt.plot(x, y,color='r')\n",
    "plt.title(\"Relation between r and θ in constrained system\")"
   ]
  },
  {
   "cell_type": "code",
   "execution_count": null,
   "id": "50846921",
   "metadata": {},
   "outputs": [],
   "source": []
  }
 ],
 "metadata": {
  "kernelspec": {
   "display_name": "Python 3",
   "language": "python",
   "name": "python3"
  },
  "language_info": {
   "codemirror_mode": {
    "name": "ipython",
    "version": 3
   },
   "file_extension": ".py",
   "mimetype": "text/x-python",
   "name": "python",
   "nbconvert_exporter": "python",
   "pygments_lexer": "ipython3",
   "version": "3.10.6 (main, Aug 30 2022, 04:58:14) [Clang 13.1.6 (clang-1316.0.21.2.5)]"
  },
  "vscode": {
   "interpreter": {
    "hash": "b0fa6594d8f4cbf19f97940f81e996739fb7646882a419484c72d19e05852a7e"
   }
  }
 },
 "nbformat": 4,
 "nbformat_minor": 5
}
