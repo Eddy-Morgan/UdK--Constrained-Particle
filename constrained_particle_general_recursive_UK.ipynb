{
 "cells": [
  {
   "cell_type": "code",
   "execution_count": 56,
   "id": "ce78fa0d",
   "metadata": {},
   "outputs": [],
   "source": [
    "import sympy as sp\n",
    "from sympy import diff, Symbol\n",
    "from scipy.integrate import odeint\n",
    "import scipy as si\n",
    "import numpy as np\n",
    "from sympy.physics.mechanics import dynamicsymbols\n",
    "import math"
   ]
  },
  {
   "cell_type": "code",
   "execution_count": 57,
   "id": "51f95eed",
   "metadata": {},
   "outputs": [],
   "source": [
    "from sympy.physics.vector import init_vprinting\n",
    "init_vprinting(use_latex=\"mathjax\", pretty_print=False)"
   ]
  },
  {
   "cell_type": "code",
   "execution_count": 58,
   "id": "a5187edd",
   "metadata": {},
   "outputs": [
    {
     "data": {
      "text/latex": [
       "$\\displaystyle \\left( \\theta, \\  r, \\  \\dot{\\theta}, \\  \\ddot{\\theta}, \\  \\dot{r}, \\  \\ddot{r}\\right)$"
      ],
      "text/plain": [
       "(theta, r, theta', theta'', r', r'')"
      ]
     },
     "execution_count": 58,
     "metadata": {},
     "output_type": "execute_result"
    }
   ],
   "source": [
    "#np.set_printoptions(precision=16)\n",
    "theta, r = dynamicsymbols('theta r')\n",
    "thetad = dynamicsymbols('theta',1)\n",
    "thetadd = dynamicsymbols('theta',2)\n",
    "rd = dynamicsymbols('r',1)\n",
    "rdd = dynamicsymbols('r',2)\n",
    "theta,r,thetad, thetadd, rd, rdd"
   ]
  },
  {
   "cell_type": "code",
   "execution_count": 59,
   "id": "670fe27c",
   "metadata": {},
   "outputs": [
    {
     "data": {
      "text/latex": [
       "$\\displaystyle \\left( \\left[\\begin{matrix}1.0 r \\dot{\\theta}^{2} - 9.81 \\sin{\\left(\\theta \\right)}\\\\- \\frac{9.81 \\cos{\\left(\\theta \\right)} + 2.0 \\dot{r} \\dot{\\theta}}{r}\\end{matrix}\\right], \\  \\left[\\begin{matrix}1 & - 0.1 e^{0.1 \\theta}\\\\0 & 1\\end{matrix}\\right], \\  \\left[\\begin{matrix}0.01 e^{0.1 \\theta} \\dot{\\theta}^{2}\\\\0\\end{matrix}\\right]\\right)$"
      ],
      "text/plain": [
       "(Matrix([\n",
       "[   1.0*r*theta'**2 - 9.81*sin(theta)],\n",
       "[-(9.81*cos(theta) + 2.0*r'*theta')/r]]), Matrix([\n",
       "[1, -0.1*exp(0.1*theta)],\n",
       "[0,                   1]]), Matrix([\n",
       "[0.01*exp(0.1*theta)*theta'**2],\n",
       "[                            0]]))"
      ]
     },
     "execution_count": 59,
     "metadata": {},
     "output_type": "execute_result"
    }
   ],
   "source": [
    "m=1\n",
    "g=9.81\n",
    "\n",
    "x = r*sp.cos(theta)\n",
    "y = r*sp.sin(theta)\n",
    "\n",
    "xd = sp.diff(x,'t')\n",
    "yd = sp.diff(y,'t')\n",
    "\n",
    "xdd = sp.diff(xd,'t')\n",
    "ydd = sp.diff(yd,'t')\n",
    "\n",
    "dynamics_sol = sp.solve([(m*xdd)  ,((m*ydd)+(m*g)) ],[rdd,thetadd])\n",
    "rdd_solver = sp.simplify(dynamics_sol[rdd])\n",
    "thetadd_solver = sp.simplify(dynamics_sol[thetadd])\n",
    "\n",
    "a0 = sp.Matrix([rdd_solver, thetadd_solver])\n",
    "M = sp.Matrix([[m, 0],[0, m]])\n",
    "Q_sym = M*a0\n",
    "\n",
    "r_c = sp.exp(0.1*theta)\n",
    "theta_c = -sp.Symbol('t')+30\n",
    "\n",
    "r_cdd = sp.diff(sp.diff(r_c,'t'),'t')\n",
    "theta_cdd = sp.diff(sp.diff(theta_c,'t'),'t')\n",
    "\n",
    "r_ac = rdd - r_cdd\n",
    "theta_ac = thetadd - theta_cdd\n",
    "\n",
    "rs1 = r_ac.coeff(rdd)\n",
    "thetas1 = r_ac.coeff(thetadd)\n",
    "rs2 = theta_ac.coeff(rdd)\n",
    "thetas2 = theta_ac.coeff(thetadd)\n",
    "A_sym = sp.Matrix([[rs1,thetas1],[rs2,thetas2]])\n",
    "\n",
    "b1 = -(r_ac - rs1*rdd - thetas1*thetadd)\n",
    "b2 = -(theta_ac - rs2*rdd - thetas2*thetadd)\n",
    "b_sym = sp.Matrix([b1 , b2])\n",
    "\n",
    "def qd_func(thetad):\n",
    "    return thetad\n",
    "\n",
    "Q_sym, A_sym, b_sym"
   ]
  },
  {
   "cell_type": "code",
   "execution_count": 60,
   "id": "69d96a38",
   "metadata": {},
   "outputs": [],
   "source": [
    "def dSdt(S,t):\n",
    "    thetv, thetvd ,rv, rvd = S\n",
    "    print(S, t)\n",
    "    M = np.array([[m,0],[0,m]])\n",
    "    Q_sn = Q_sym.subs({thetad:thetvd,theta:thetv, rd:rvd ,r:rv}).evalf(50)\n",
    "    A_sn = A_sym.subs({theta:thetv}).evalf(50)\n",
    "    b_sn = b_sym.subs({thetad:thetvd,theta:thetv}).evalf(50)\n",
    "    Q_func = sp.lambdify((),Q_sn, modules='numpy')\n",
    "    A_func = sp.lambdify((),A_sn, modules='numpy')\n",
    "    b_func = sp.lambdify((),b_sn, modules='numpy')\n",
    "    \n",
    "    Q = Q_func()\n",
    "    A = A_func()\n",
    "    b = b_func()\n",
    "    \n",
    "    Msqrt = si.linalg.fractional_matrix_power(M, 1/2)\n",
    "    AMsqrt = A@si.linalg.fractional_matrix_power(M, -1/2)\n",
    "    \n",
    "    print(Q)\n",
    "    \n",
    "    B = b - A@si.linalg.inv(M)@Q\n",
    "    pinv = np.linalg.pinv(AMsqrt.astype(np.float64))\n",
    "    \n",
    "    Qc =  np.dot(Msqrt,np.dot(pinv,B))\n",
    "    \n",
    "    ddq0,ddq1 = np.dot(np.linalg.inv(M),Q) + np.dot(np.linalg.inv(M),Qc)\n",
    "    return [\n",
    "        qd_func(thetvd),\n",
    "        ddq1,\n",
    "        qd_func(rvd),\n",
    "        ddq0,\n",
    "    ]"
   ]
  },
  {
   "cell_type": "code",
   "execution_count": 61,
   "id": "9f89fd7b",
   "metadata": {
    "scrolled": true
   },
   "outputs": [
    {
     "name": "stdout",
     "output_type": "stream",
     "text": [
      "[30.         -1.         20.08553692 -2.00855369] 0.0\n",
      "[[29.77812716]\n",
      " [-0.27533813]]\n",
      "[29.99997559 -1.         20.0854879  -2.00854879] 2.440966483826081e-05\n",
      "[[29.77811506]\n",
      " [-0.27532653]]\n",
      "[29.99997559 -1.         20.0854879  -2.00854879] 2.440966483826081e-05\n",
      "[[29.77811506]\n",
      " [-0.27532653]]\n",
      "[29.99995118 -1.         20.08543887 -2.00854389] 4.881932967652162e-05\n",
      "[[29.77810296]\n",
      " [-0.27531494]]\n",
      "[29.99995118 -1.         20.08543887 -2.00854389] 4.881932967652162e-05\n",
      "[[29.77810296]\n",
      " [-0.27531494]]\n",
      "[29.95914817 -1.         20.00365143 -2.00036514] 0.040851830027993724\n",
      "[[29.74995501]\n",
      " [-0.25579453]]\n",
      "[29.95914817 -1.         20.00365109 -2.00036511] 0.040851830027993724\n",
      "[[29.74995467]\n",
      " [-0.25579453]]\n",
      "[29.91834516 -1.         19.92219703 -1.9922197 ] 0.08165484072631093\n",
      "[[29.70591587]\n",
      " [-0.23601998]]\n",
      "[29.91834516 -1.         19.92219635 -1.99221963] 0.08165484072631093\n",
      "[[29.70591519]\n",
      " [-0.23601998]]\n",
      "[29.87754215 -1.         19.84107397 -1.9841074 ] 0.12245785142462814\n",
      "[[29.64592155]\n",
      " [-0.21602259]]\n",
      "[29.87754215 -1.         19.84107329 -1.98410733] 0.12245785142462814\n",
      "[[29.64592088]\n",
      " [-0.21602259]]\n",
      "[29.70080694 -1.         19.49349839 -1.94934984] 0.2991930615758549\n",
      "[[29.20150834]\n",
      " [-0.12762195]]\n",
      "[29.70080694 -1.         19.49349329 -1.94934933] 0.2991930615758549\n",
      "[[29.20150325]\n",
      " [-0.12762193]]\n",
      "[29.74718413 -1.         19.58411089 -1.95841109] 0.25281587441369935\n",
      "[[29.3470927 ]\n",
      " [-0.15101562]]\n",
      "[29.74718413 -1.         19.58410808 -1.95841081] 0.25281587441369935\n",
      "[[29.34708989]\n",
      " [-0.15101561]]\n",
      "[29.6168261  -1.         19.33046722 -1.93304672] 0.3831738974027706\n",
      "[[28.88591362]\n",
      " [-0.08514206]]\n",
      "[29.6168261  -1.         19.33047035 -1.93304703] 0.3831738974027706\n",
      "[[28.88591675]\n",
      " [-0.08514208]]\n",
      "[29.63895404 -1.         19.37329005 -1.93732901] 0.36104595510454834\n",
      "[[28.97552287]\n",
      " [-0.09633722]]\n",
      "[29.63895404 -1.         19.37329201 -1.9373292 ] 0.36104595510454834\n",
      "[[28.97552483]\n",
      " [-0.09633723]]\n",
      "[29.53072396 -1.         19.16474537 -1.91647454] 0.46927603579539734\n",
      "[[28.4938608 ]\n",
      " [-0.04170095]]\n",
      "[29.53072396 -1.         19.1647453  -1.91647453] 0.46927603579539734\n",
      "[[28.49386074]\n",
      " [-0.04170095]]\n",
      "[29.42249388 -1.         18.95844343 -1.89584434] 0.5775061164862463\n",
      "[[2.79052692e+01]\n",
      " [1.22395101e-02]]\n",
      "[29.42249388 -1.         18.95844354 -1.89584435] 0.5775061164862463\n",
      "[[2.79052693e+01]\n",
      " [1.22395088e-02]]\n",
      "[29.3142638  -1.         18.75436243 -1.87543624] 0.6857361971770952\n",
      "[[27.21419986]\n",
      " [ 0.06482444]]\n",
      "[29.3142638  -1.         18.75436254 -1.87543625] 0.6857361971770952\n",
      "[[27.21419997]\n",
      " [ 0.06482444]]\n",
      "[29.09780364 -1.         18.35276694 -1.8352767 ] 0.9021963585587932\n",
      "[[25.54848598]\n",
      " [ 0.16330559]]\n",
      "[29.09780364 -1.         18.35276745 -1.83527675] 0.9021963585587932\n",
      "[[25.5484865 ]\n",
      " [ 0.16330558]]\n",
      "[28.88134348 -1.         17.95977215 -1.79597722] 1.1186565199404912\n",
      "[[23.55553177]\n",
      " [ 0.24864247]]\n",
      "[28.88134348 -1.         17.95977186 -1.79597719] 1.1186565199404912\n",
      "[[23.55553148]\n",
      " [ 0.24864248]]\n",
      "[28.66488332 -1.         17.57519197 -1.7575192 ] 1.335116681322189\n",
      "[[21.30982499]\n",
      " [ 0.31614271]]\n",
      "[28.66488332 -1.         17.57519167 -1.75751917] 1.335116681322189\n",
      "[[21.30982469]\n",
      " [ 0.31614272]]\n",
      "[28.44842316 -1.         17.1988467  -1.71988467] 1.551576842703887\n",
      "[[18.89804907]\n",
      " [ 0.36176551]]\n",
      "[28.44842316 -1.         17.19884667 -1.71988467] 1.551576842703887\n",
      "[[18.89804903]\n",
      " [ 0.36176551]]\n",
      "[28.231963   -1.         16.83056053 -1.68305606] 1.7680370040855848\n",
      "[[16.41502649]\n",
      " [ 0.38234516]]\n",
      "[28.231963   -1.         16.8305605  -1.68305605] 1.7680370040855848\n",
      "[[16.41502646]\n",
      " [ 0.38234516]]\n",
      "[27.49396569 -1.         15.63319695 -1.5633197 ] 2.506034305327149\n",
      "[[8.73145855]\n",
      " [0.24594341]]\n",
      "[27.49396569 -1.         15.63319539 -1.56331955] 2.506034305327149\n",
      "[[8.73145699]\n",
      " [0.24594345]]\n",
      "[26.75596839 -1.         14.5210158  -1.45210159] 3.244031606568713\n",
      "[[ 4.72449652]\n",
      " [-0.16459539]]\n",
      "[26.75596839 -1.         14.52101414 -1.45210142] 3.244031606568713\n",
      "[[ 4.72449486]\n",
      " [-0.16459539]]\n",
      "[26.01797109 -1.         13.48795166 -1.34879518] 3.9820289078102773\n",
      "[[ 5.89441779]\n",
      " [-0.66047205]]\n",
      "[26.01797109 -1.         13.48795597 -1.34879559] 3.9820289078102773\n",
      "[[ 5.89442211]\n",
      " [-0.6604719 ]]\n",
      "[25.27997379 -1.         12.52839033 -1.25283904] 4.7200262090518414\n",
      "[[11.08925155]\n",
      " [-0.97454995]]\n",
      "[25.27997379 -1.         12.5283917  -1.25283918] 4.7200262090518414\n",
      "[[11.08925292]\n",
      " [-0.97454987]]\n",
      "[24.54197649 -1.         11.63709226 -1.16370924] 5.458023510293406\n",
      "[[17.10122609]\n",
      " [-0.90011921]]\n",
      "[24.54197649 -1.         11.63709309 -1.16370932] 5.458023510293406\n",
      "[[17.10122692]\n",
      " [-0.90011916]]\n",
      "[23.80397919 -1.         10.80920277 -1.08092029] 6.19602081153497\n",
      "[[20.33326491]\n",
      " [-0.41752227]]\n",
      "[23.80397919 -1.         10.80920352 -1.08092037] 6.19602081153497\n",
      "[[20.33326566]\n",
      " [-0.41752225]]\n",
      "[22.86572863 -1.          9.84115175 -0.98411519] 7.13427137175108\n",
      "[[17.36811214]\n",
      " [ 0.43928906]]\n",
      "[22.86572863 -1.          9.84115321 -0.98411534] 7.13427137175108\n",
      "[[17.3681136 ]\n",
      " [ 0.43928896]]\n",
      "[21.92747807 -1.          8.95979866 -0.89597989] 8.07252193196719\n",
      "[[8.33561292]\n",
      " [0.89267211]]\n",
      "[21.92747807 -1.          8.95979932 -0.89597995] 8.07252193196719\n",
      "[[8.33561358]\n",
      " [0.89267203]]\n",
      "[20.98922751 -1.          8.15737982 -0.81573801] 9.0107724921833\n",
      "[[-0.10761766]\n",
      " [ 0.44781803]]\n",
      "[20.98922751 -1.          8.15737769 -0.8157378 ] 9.0107724921833\n",
      "[[-0.10761979]\n",
      " [ 0.4478182 ]]\n",
      "[20.05097695 -1.          7.42682022 -0.74268206] 9.94902305239941\n",
      "[[-1.72152534]\n",
      " [-0.6768842 ]]\n",
      "[20.05097695 -1.          7.42681945 -0.74268198] 9.94902305239941\n",
      "[[-1.72152611]\n",
      " [-0.67688424]]\n",
      "[19.11272639 -1.          6.76168878 -0.67616891] 10.88727361261552\n",
      "[[ 4.20968437]\n",
      " [-1.60086932]]\n",
      "[19.11272639 -1.          6.76168852 -0.67616889] 10.88727361261552\n",
      "[[ 4.20968411]\n",
      " [-1.60086937]]\n",
      "[18.17447583 -1.          6.15612552 -0.61561259] 11.82552417283163\n",
      "[[12.2869816 ]\n",
      " [-1.44400392]]\n",
      "[18.17447583 -1.          6.15612535 -0.61561257] 11.82552417283163\n",
      "[[12.28698142]\n",
      " [-1.44400395]]\n",
      "[17.23622527 -1.          5.60479534 -0.56047958] 12.76377473304774\n",
      "[[15.40592271]\n",
      " [-0.12557518]]\n",
      "[17.23622527 -1.          5.60479518 -0.56047956] 12.76377473304774\n",
      "[[15.40592255]\n",
      " [-0.12557518]]\n",
      "[15.85968523 -1.          4.88401975 -0.48840202] 14.140314766991972\n",
      "[[6.36670844]\n",
      " [1.78551724]]\n",
      "[15.85968523 -1.          4.88401918 -0.48840197] 14.140314766991972\n",
      "[[6.36670787]\n",
      " [1.78551747]]\n",
      "[14.4831452  -1.          4.25593605 -0.42559365] 15.516854800936205\n",
      "[[-4.97276414]\n",
      " [ 0.58167033]]\n",
      "[14.4831452  -1.          4.25593495 -0.42559355] 15.516854800936205\n",
      "[[-4.97276525]\n",
      " [ 0.58167053]]\n",
      "[13.10660517 -1.          3.70862125 -0.37086219] 16.893394834880436\n",
      "[[-1.33702623]\n",
      " [-2.46848159]]\n",
      "[13.10660517 -1.          3.70862237 -0.37086229] 16.893394834880436\n",
      "[[-1.33702511]\n",
      " [-2.46848091]]\n",
      "[11.73006513 -1.          3.23169291 -0.32316935] 18.269934868824667\n",
      "[[10.51240113]\n",
      " [-2.23446123]]\n",
      "[11.73006513 -1.          3.23169401 -0.32316946] 18.269934868824667\n",
      "[[10.51240222]\n",
      " [-2.23446054]]\n",
      "[10.3535251  -1.          2.81609809 -0.28160988] 19.646474902768897\n",
      "[[10.67263581]\n",
      " [ 1.88607755]]\n",
      "[10.3535251  -1.          2.81609851 -0.28160992] 19.646474902768897\n",
      "[[10.67263623]\n",
      " [ 1.88607724]]\n",
      "[ 8.97698506 -1.          2.45394838 -0.24539491] 21.02301493671313\n",
      "[[-1.79355694]\n",
      " [ 3.4034915 ]]\n",
      "[ 8.97698506 -1.          2.45394855 -0.24539493] 21.02301493671313\n",
      "[[-1.79355678]\n",
      " [ 3.40349126]]\n",
      "[ 7.60044503 -1.          2.13837088 -0.21383717] 22.39955497065736\n",
      "[[-7.3580171 ]\n",
      " [-1.35070464]]\n",
      "[ 7.60044503 -1.          2.13837102 -0.21383718] 22.39955497065736\n",
      "[[-7.35801696]\n",
      " [-1.35070456]]\n",
      "[ 6.223905   -1.          1.86337657 -0.18633774] 23.77609500460159\n",
      "[[ 2.44457589]\n",
      " [-5.45538875]]\n",
      "[ 6.223905   -1.          1.86337671 -0.18633775] 23.77609500460159\n",
      "[[ 2.44457602]\n",
      " [-5.45538838]]\n",
      "[ 4.68972405 -1.          1.59835025 -0.15983512] 25.31027594848893\n",
      "[[11.40583067]\n",
      " [-0.06090424]]\n",
      "[ 4.68972405 -1.          1.59835042 -0.15983513] 25.31027594848893\n",
      "[[11.40583084]\n",
      " [-0.06090426]]\n",
      "[ 3.15554311 -1.          1.37101827 -0.13710192] 26.844456892376268\n",
      "[[1.50786779]\n",
      " [6.95456929]]\n",
      "[ 3.15554311 -1.          1.37101854 -0.13710195] 26.844456892376268\n",
      "[[1.50786806]\n",
      " [6.95456787]]\n",
      "[ 1.62136216 -1.          1.17601965 -0.11760207] 28.378637836263607\n",
      "[[-8.62144141]\n",
      " [ 0.221625  ]]\n",
      "[ 1.62136216 -1.          1.17601983 -0.11760209] 28.378637836263607\n",
      "[[-8.62144123]\n",
      " [ 0.22162494]]\n",
      "[ 0.08718122 -1.          1.00875539 -0.10087565] 29.912818780150946\n",
      "[[ 0.15459061]\n",
      " [-9.8879215 ]]\n",
      "[ 0.08718122 -1.          1.00875558 -0.10087567] 29.912818780150946\n",
      "[[ 0.1545908 ]\n",
      " [-9.88791968]]\n",
      "[-1.44699972 -1.          0.865281   -0.08652822] 31.446999724038285\n",
      "[[10.60020489]\n",
      " [-1.59994438]]\n",
      "[-1.44699972 -1.          0.86528114 -0.08652823] 31.446999724038285\n",
      "[[10.60020504]\n",
      " [-1.59994414]]\n",
      "[-2.98118067 -1.          0.74221279 -0.0742214 ] 32.98118066792563\n",
      "[[ 2.30911422]\n",
      " [12.84754493]]\n",
      "[-2.98118067 -1.          0.74221292 -0.07422142] 32.98118066792563\n",
      "[[ 2.30911435]\n",
      " [12.84754261]]\n",
      "[-4.51536161 -1.          0.63664844 -0.06366498] 34.51536161181297\n",
      "[[-8.9835557 ]\n",
      " [ 2.81635401]]\n",
      "[-4.51536161 -1.          0.63664855 -0.06366499] 34.51536161181297\n",
      "[[-8.98355559]\n",
      " [ 2.81635349]]\n",
      "[-6.04954256 -1.          0.54609839 -0.05460998] 36.04954255570031\n",
      "[[ -1.72514055]\n",
      " [-17.67571051]]\n",
      "[-6.04954256 -1.          0.54609849 -0.05460999] 36.04954255570031\n",
      "[[ -1.72514045]\n",
      " [-17.67570745]]\n",
      "[-7.5837235  -1.          0.46842717 -0.04684286] 37.583723499587656\n",
      "[[ 9.92234391]\n",
      " [-5.79121312]]\n",
      "[-7.5837235  -1.          0.46842725 -0.04684287] 37.583723499587656\n",
      "[[ 9.92234399]\n",
      " [-5.79121214]]\n",
      "[-9.11790444 -1.          0.40180304 -0.04018046] 39.117904443475\n",
      "[[ 3.36520486]\n",
      " [23.07434524]]\n",
      "[-9.11790444 -1.          0.40180311 -0.04018046] 39.117904443475\n",
      "[[ 3.36520493]\n",
      " [23.07434117]]\n",
      "[-10.65208539  -1.           0.34465478  -0.03446564] 40.65208538736234\n",
      "[[-8.89229825]\n",
      " [ 9.38569286]]\n",
      "[-10.65208539  -1.           0.34465484  -0.03446564] 40.65208538736234\n"
     ]
    },
    {
     "name": "stdout",
     "output_type": "stream",
     "text": [
      "[[-8.89229819]\n",
      " [ 9.38569119]]\n",
      "[-12.35877189  -1.           0.29057848  -0.02905802] 42.358771888840046\n",
      "[[ -1.73136828]\n",
      " [-33.23536656]]\n",
      "[-12.35877189  -1.           0.29057855  -0.02905802] 42.358771888840046\n",
      "[[ -1.7313682 ]\n",
      " [-33.23535788]]\n",
      "[-14.06545839  -1.           0.24498665  -0.02449884] 44.06545839031775\n",
      "[[10.02977538]\n",
      " [-3.06896658]]\n",
      "[-14.06545839  -1.           0.24498677  -0.02449885] 44.06545839031775\n",
      "[[10.0297755 ]\n",
      " [-3.06896513]]\n",
      "[-15.77214489  -1.           0.2065482   -0.020655  ] 45.772144891795456\n",
      "[[-0.42264135]\n",
      " [47.19717544]]\n",
      "[-15.77214489  -1.           0.20654829  -0.02065501] 45.772144891795456\n",
      "[[-0.42264127]\n",
      " [47.19715698]]\n",
      "[-1.74788314e+01 -1.00000000e+00  1.74140667e-01 -1.74142591e-02] 47.47883139327316\n",
      "[[ -9.4401725 ]\n",
      " [-11.39575828]]\n",
      "[-1.74788314e+01 -1.00000000e+00  1.74140750e-01 -1.74142667e-02] 47.47883139327316\n",
      "[[ -9.44017242]\n",
      " [-11.39575296]]\n",
      "[-1.91855179e+01 -1.00000000e+00  1.46817853e-01 -1.46819854e-02] 49.185517894750866\n",
      "[[  3.38095428]\n",
      " [-63.28196497]]\n",
      "[-1.91855179e+01 -1.00000000e+00  1.46817915e-01 -1.46819914e-02] 49.185517894750866\n",
      "[[  3.38095434]\n",
      " [-63.28193855]]\n",
      "[-2.08922044e+01 -1.00000000e+00  1.23781940e-01 -1.23784026e-02] 50.89220439622857\n",
      "[[ 8.8618231 ]\n",
      " [35.82307285]]\n",
      "[-2.08922044e+01 -1.00000000e+00  1.23781995e-01 -1.23784077e-02] 50.89220439622857\n",
      "[[ 8.86182316]\n",
      " [35.82305673]]\n"
     ]
    }
   ],
   "source": [
    "t = np.linspace(0, 50, 251)\n",
    "r_ic = math.exp(3)\n",
    "theta_ic = 30\n",
    "r_d_ic = -0.1*math.exp(3)\n",
    "theta_d_ic = -1\n",
    "ans = odeint(dSdt, y0=[theta_ic,theta_d_ic,r_ic,r_d_ic], t=t)"
   ]
  },
  {
   "cell_type": "code",
   "execution_count": 62,
   "id": "3a243ac9",
   "metadata": {},
   "outputs": [
    {
     "data": {
      "text/plain": [
       "array([[ 3.00000000e+01,  2.98000000e+01,  2.96000000e+01, ...,\n",
       "        -1.96000000e+01, -1.98000000e+01, -2.00000000e+01],\n",
       "       [-1.00000000e+00, -1.00000000e+00, -1.00000000e+00, ...,\n",
       "        -1.00000000e+00, -1.00000000e+00, -1.00000000e+00],\n",
       "       [ 2.00855369e+01,  1.96878167e+01,  1.92979720e+01, ...,\n",
       "         1.40856879e-01,  1.38067686e-01,  1.35333722e-01],\n",
       "       [-2.00855369e+00, -1.96878167e+00, -1.92979720e+00, ...,\n",
       "        -1.40858902e-02, -1.38069718e-02, -1.35335764e-02]])"
      ]
     },
     "execution_count": 62,
     "metadata": {},
     "output_type": "execute_result"
    }
   ],
   "source": [
    "ans.T"
   ]
  },
  {
   "cell_type": "code",
   "execution_count": 63,
   "id": "08852c77",
   "metadata": {},
   "outputs": [],
   "source": [
    "thetv_ = ans.T[0]\n",
    "thetvd_ = ans.T[1]\n",
    "rv_ = ans.T[2]\n",
    "rvd_ = ans.T[3]"
   ]
  },
  {
   "cell_type": "code",
   "execution_count": 64,
   "id": "9dc77ece",
   "metadata": {},
   "outputs": [],
   "source": [
    "import matplotlib.pyplot as plt"
   ]
  },
  {
   "cell_type": "code",
   "execution_count": 65,
   "id": "a2bdd897",
   "metadata": {},
   "outputs": [
    {
     "data": {
      "text/plain": [
       "Text(0.5, 1.0, 'Relation between r and θ in constrained system')"
      ]
     },
     "execution_count": 65,
     "metadata": {},
     "output_type": "execute_result"
    },
    {
     "data": {
      "image/png": "[encoded data removed]",
      "text/plain": [
       "<Figure size 432x288 with 1 Axes>"
      ]
     },
     "metadata": {
      "needs_background": "light"
     },
     "output_type": "display_data"
    }
   ],
   "source": [
    "#plt.axis([-300, 300, -250, 250])\n",
    "plt.plot(thetv_, rv_)\n",
    "plt.title(\"Relation between r and θ in constrained system\")"
   ]
  },
  {
   "cell_type": "code",
   "execution_count": 66,
   "id": "cffbc0f7",
   "metadata": {},
   "outputs": [
    {
     "data": {
      "image/png": "[encoded data removed]",
      "text/plain": [
       "<Figure size 432x288 with 1 Axes>"
      ]
     },
     "metadata": {
      "needs_background": "light"
     },
     "output_type": "display_data"
    }
   ],
   "source": [
    "#plt.axis([0, 50, -30, 30])\n",
    "plt.plot(t, thetv_,color='b', label='theta')\n",
    "plt.plot(t, rv_, color='r', label='r')\n",
    "plt.title(\"histories of the particle in constrained system\")\n",
    "plt.legend()\n",
    "plt.show()"
   ]
  },
  {
   "cell_type": "code",
   "execution_count": 67,
   "id": "a4c72807",
   "metadata": {},
   "outputs": [],
   "source": [
    "x = r*sp.cos(theta)\n",
    "y = r*sp.sin(theta)\n",
    "def get_xy(the, d):\n",
    "    return (d*np.cos(the),\n",
    "            d*np.sin(the))\n",
    "\n",
    "\n",
    "x,y = get_xy(ans.T[0],ans.T[2])"
   ]
  },
  {
   "cell_type": "code",
   "execution_count": 68,
   "id": "61d95412",
   "metadata": {},
   "outputs": [
    {
     "data": {
      "text/plain": [
       "Text(0.5, 1.0, 'Relation between r and θ in constrained system')"
      ]
     },
     "execution_count": 68,
     "metadata": {},
     "output_type": "execute_result"
    },
    {
     "data": {
      "image/png": "[encoded data removed]",
      "text/plain": [
       "<Figure size 432x288 with 1 Axes>"
      ]
     },
     "metadata": {
      "needs_background": "light"
     },
     "output_type": "display_data"
    }
   ],
   "source": [
    "#plt.axis([-20, 15, -20, 15])\n",
    "plt.plot(x, y,color='r')\n",
    "plt.title(\"Relation between r and θ in constrained system\")"
   ]
  },
  {
   "cell_type": "code",
   "execution_count": null,
   "id": "4e83c98c",
   "metadata": {},
   "outputs": [],
   "source": []
  }
 ],
 "metadata": {
  "kernelspec": {
   "display_name": "Python 3",
   "language": "python",
   "name": "python3"
  },
  "language_info": {
   "codemirror_mode": {
    "name": "ipython",
    "version": 3
   },
   "file_extension": ".py",
   "mimetype": "text/x-python",
   "name": "python",
   "nbconvert_exporter": "python",
   "pygments_lexer": "ipython3",
   "version": "3.10.6 (main, Aug 30 2022, 04:58:14) [Clang 13.1.6 (clang-1316.0.21.2.5)]"
  },
  "vscode": {
   "interpreter": {
    "hash": "b0fa6594d8f4cbf19f97940f81e996739fb7646882a419484c72d19e05852a7e"
   }
  }
 },
 "nbformat": 4,
 "nbformat_minor": 5
}
